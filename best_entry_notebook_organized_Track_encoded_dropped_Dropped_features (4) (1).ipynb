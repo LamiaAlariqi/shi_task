{
  "cells": [
    {
      "cell_type": "markdown",
      "metadata": {
        "id": "Vd2P-0rZaoTa"
      },
      "source": [
        "# 1. Data Exploration and Visualization\n"
      ]
    },
    {
      "cell_type": "markdown",
      "metadata": {
        "id": "izrpEvgeaoTx"
      },
      "source": [
        "### 1.1 Load the Dataset\n"
      ]
    },
    {
      "cell_type": "code",
      "execution_count": null,
      "metadata": {
        "colab": {
          "base_uri": "https://localhost:8080/",
          "height": 772
        },
        "id": "banHSJO5aoT0",
        "outputId": "15d10b65-19db-4cc1-8fa1-b2f98e506345"
      },
      "outputs": [
        {
          "output_type": "stream",
          "name": "stdout",
          "text": [
            "<class 'pandas.core.frame.DataFrame'>\n",
            "RangeIndex: 14396 entries, 0 to 14395\n",
            "Data columns (total 18 columns):\n",
            " #   Column              Non-Null Count  Dtype  \n",
            "---  ------              --------------  -----  \n",
            " 0   Id                  14396 non-null  int64  \n",
            " 1   Artist Name         14396 non-null  object \n",
            " 2   Track Name          14396 non-null  object \n",
            " 3   Popularity          14063 non-null  float64\n",
            " 4   danceability        14396 non-null  float64\n",
            " 5   energy              14396 non-null  float64\n",
            " 6   key                 12787 non-null  float64\n",
            " 7   loudness            14396 non-null  float64\n",
            " 8   mode                14396 non-null  int64  \n",
            " 9   speechiness         14396 non-null  float64\n",
            " 10  acousticness        14396 non-null  float64\n",
            " 11  instrumentalness    10855 non-null  float64\n",
            " 12  liveness            14396 non-null  float64\n",
            " 13  valence             14396 non-null  float64\n",
            " 14  tempo               14396 non-null  float64\n",
            " 15  duration_in min/ms  14396 non-null  float64\n",
            " 16  time_signature      14396 non-null  int64  \n",
            " 17  Class               14396 non-null  int64  \n",
            "dtypes: float64(12), int64(4), object(2)\n",
            "memory usage: 2.0+ MB\n"
          ]
        },
        {
          "output_type": "execute_result",
          "data": {
            "text/plain": [
              "                 Id    Popularity  danceability        energy           key  \\\n",
              "count  14396.000000  14063.000000  14396.000000  14396.000000  12787.000000   \n",
              "mean    7198.500000     44.525208      0.543105      0.662422      5.953781   \n",
              "std     4155.911573     17.418940      0.165517      0.235967      3.200013   \n",
              "min        1.000000      1.000000      0.059600      0.001210      1.000000   \n",
              "25%     3599.750000     33.000000      0.432000      0.508000      3.000000   \n",
              "50%     7198.500000     44.000000      0.545000      0.699000      6.000000   \n",
              "75%    10797.250000     56.000000      0.658000      0.861000      9.000000   \n",
              "max    14396.000000    100.000000      0.989000      1.000000     11.000000   \n",
              "\n",
              "           loudness          mode   speechiness  acousticness  \\\n",
              "count  14396.000000  14396.000000  14396.000000  14396.000000   \n",
              "mean      -7.900852      0.640247      0.080181      0.246746   \n",
              "std        4.057362      0.479944      0.085157      0.310922   \n",
              "min      -39.952000      0.000000      0.022500      0.000000   \n",
              "25%       -9.538000      0.000000      0.034800      0.004280   \n",
              "50%       -7.013500      1.000000      0.047100      0.081450   \n",
              "75%       -5.162000      1.000000      0.083100      0.432250   \n",
              "max        1.342000      1.000000      0.955000      0.996000   \n",
              "\n",
              "       instrumentalness      liveness       valence         tempo  \\\n",
              "count      10855.000000  14396.000000  14396.000000  14396.000000   \n",
              "mean           0.178129      0.195782      0.486379    122.695372   \n",
              "std            0.304266      0.159258      0.239476     29.538490   \n",
              "min            0.000001      0.011900      0.021500     30.557000   \n",
              "25%            0.000088      0.097275      0.299000     99.799000   \n",
              "50%            0.003920      0.129000      0.480500    120.060000   \n",
              "75%            0.201000      0.256000      0.672000    141.988250   \n",
              "max            0.996000      0.992000      0.986000    217.416000   \n",
              "\n",
              "       duration_in min/ms  time_signature         Class  \n",
              "count        1.439600e+04    14396.000000  14396.000000  \n",
              "mean         2.000942e+05        3.924354      6.695679  \n",
              "std          1.116891e+05        0.359520      3.206170  \n",
              "min          5.016500e-01        1.000000      0.000000  \n",
              "25%          1.654458e+05        4.000000      5.000000  \n",
              "50%          2.089410e+05        4.000000      8.000000  \n",
              "75%          2.522470e+05        4.000000     10.000000  \n",
              "max          1.477187e+06        5.000000     10.000000  "
            ],
            "text/html": [
              "\n",
              "  <div id=\"df-f95727c1-8ef7-46ed-a817-49950c4b565e\" class=\"colab-df-container\">\n",
              "    <div>\n",
              "<style scoped>\n",
              "    .dataframe tbody tr th:only-of-type {\n",
              "        vertical-align: middle;\n",
              "    }\n",
              "\n",
              "    .dataframe tbody tr th {\n",
              "        vertical-align: top;\n",
              "    }\n",
              "\n",
              "    .dataframe thead th {\n",
              "        text-align: right;\n",
              "    }\n",
              "</style>\n",
              "<table border=\"1\" class=\"dataframe\">\n",
              "  <thead>\n",
              "    <tr style=\"text-align: right;\">\n",
              "      <th></th>\n",
              "      <th>Id</th>\n",
              "      <th>Popularity</th>\n",
              "      <th>danceability</th>\n",
              "      <th>energy</th>\n",
              "      <th>key</th>\n",
              "      <th>loudness</th>\n",
              "      <th>mode</th>\n",
              "      <th>speechiness</th>\n",
              "      <th>acousticness</th>\n",
              "      <th>instrumentalness</th>\n",
              "      <th>liveness</th>\n",
              "      <th>valence</th>\n",
              "      <th>tempo</th>\n",
              "      <th>duration_in min/ms</th>\n",
              "      <th>time_signature</th>\n",
              "      <th>Class</th>\n",
              "    </tr>\n",
              "  </thead>\n",
              "  <tbody>\n",
              "    <tr>\n",
              "      <th>count</th>\n",
              "      <td>14396.000000</td>\n",
              "      <td>14063.000000</td>\n",
              "      <td>14396.000000</td>\n",
              "      <td>14396.000000</td>\n",
              "      <td>12787.000000</td>\n",
              "      <td>14396.000000</td>\n",
              "      <td>14396.000000</td>\n",
              "      <td>14396.000000</td>\n",
              "      <td>14396.000000</td>\n",
              "      <td>10855.000000</td>\n",
              "      <td>14396.000000</td>\n",
              "      <td>14396.000000</td>\n",
              "      <td>14396.000000</td>\n",
              "      <td>1.439600e+04</td>\n",
              "      <td>14396.000000</td>\n",
              "      <td>14396.000000</td>\n",
              "    </tr>\n",
              "    <tr>\n",
              "      <th>mean</th>\n",
              "      <td>7198.500000</td>\n",
              "      <td>44.525208</td>\n",
              "      <td>0.543105</td>\n",
              "      <td>0.662422</td>\n",
              "      <td>5.953781</td>\n",
              "      <td>-7.900852</td>\n",
              "      <td>0.640247</td>\n",
              "      <td>0.080181</td>\n",
              "      <td>0.246746</td>\n",
              "      <td>0.178129</td>\n",
              "      <td>0.195782</td>\n",
              "      <td>0.486379</td>\n",
              "      <td>122.695372</td>\n",
              "      <td>2.000942e+05</td>\n",
              "      <td>3.924354</td>\n",
              "      <td>6.695679</td>\n",
              "    </tr>\n",
              "    <tr>\n",
              "      <th>std</th>\n",
              "      <td>4155.911573</td>\n",
              "      <td>17.418940</td>\n",
              "      <td>0.165517</td>\n",
              "      <td>0.235967</td>\n",
              "      <td>3.200013</td>\n",
              "      <td>4.057362</td>\n",
              "      <td>0.479944</td>\n",
              "      <td>0.085157</td>\n",
              "      <td>0.310922</td>\n",
              "      <td>0.304266</td>\n",
              "      <td>0.159258</td>\n",
              "      <td>0.239476</td>\n",
              "      <td>29.538490</td>\n",
              "      <td>1.116891e+05</td>\n",
              "      <td>0.359520</td>\n",
              "      <td>3.206170</td>\n",
              "    </tr>\n",
              "    <tr>\n",
              "      <th>min</th>\n",
              "      <td>1.000000</td>\n",
              "      <td>1.000000</td>\n",
              "      <td>0.059600</td>\n",
              "      <td>0.001210</td>\n",
              "      <td>1.000000</td>\n",
              "      <td>-39.952000</td>\n",
              "      <td>0.000000</td>\n",
              "      <td>0.022500</td>\n",
              "      <td>0.000000</td>\n",
              "      <td>0.000001</td>\n",
              "      <td>0.011900</td>\n",
              "      <td>0.021500</td>\n",
              "      <td>30.557000</td>\n",
              "      <td>5.016500e-01</td>\n",
              "      <td>1.000000</td>\n",
              "      <td>0.000000</td>\n",
              "    </tr>\n",
              "    <tr>\n",
              "      <th>25%</th>\n",
              "      <td>3599.750000</td>\n",
              "      <td>33.000000</td>\n",
              "      <td>0.432000</td>\n",
              "      <td>0.508000</td>\n",
              "      <td>3.000000</td>\n",
              "      <td>-9.538000</td>\n",
              "      <td>0.000000</td>\n",
              "      <td>0.034800</td>\n",
              "      <td>0.004280</td>\n",
              "      <td>0.000088</td>\n",
              "      <td>0.097275</td>\n",
              "      <td>0.299000</td>\n",
              "      <td>99.799000</td>\n",
              "      <td>1.654458e+05</td>\n",
              "      <td>4.000000</td>\n",
              "      <td>5.000000</td>\n",
              "    </tr>\n",
              "    <tr>\n",
              "      <th>50%</th>\n",
              "      <td>7198.500000</td>\n",
              "      <td>44.000000</td>\n",
              "      <td>0.545000</td>\n",
              "      <td>0.699000</td>\n",
              "      <td>6.000000</td>\n",
              "      <td>-7.013500</td>\n",
              "      <td>1.000000</td>\n",
              "      <td>0.047100</td>\n",
              "      <td>0.081450</td>\n",
              "      <td>0.003920</td>\n",
              "      <td>0.129000</td>\n",
              "      <td>0.480500</td>\n",
              "      <td>120.060000</td>\n",
              "      <td>2.089410e+05</td>\n",
              "      <td>4.000000</td>\n",
              "      <td>8.000000</td>\n",
              "    </tr>\n",
              "    <tr>\n",
              "      <th>75%</th>\n",
              "      <td>10797.250000</td>\n",
              "      <td>56.000000</td>\n",
              "      <td>0.658000</td>\n",
              "      <td>0.861000</td>\n",
              "      <td>9.000000</td>\n",
              "      <td>-5.162000</td>\n",
              "      <td>1.000000</td>\n",
              "      <td>0.083100</td>\n",
              "      <td>0.432250</td>\n",
              "      <td>0.201000</td>\n",
              "      <td>0.256000</td>\n",
              "      <td>0.672000</td>\n",
              "      <td>141.988250</td>\n",
              "      <td>2.522470e+05</td>\n",
              "      <td>4.000000</td>\n",
              "      <td>10.000000</td>\n",
              "    </tr>\n",
              "    <tr>\n",
              "      <th>max</th>\n",
              "      <td>14396.000000</td>\n",
              "      <td>100.000000</td>\n",
              "      <td>0.989000</td>\n",
              "      <td>1.000000</td>\n",
              "      <td>11.000000</td>\n",
              "      <td>1.342000</td>\n",
              "      <td>1.000000</td>\n",
              "      <td>0.955000</td>\n",
              "      <td>0.996000</td>\n",
              "      <td>0.996000</td>\n",
              "      <td>0.992000</td>\n",
              "      <td>0.986000</td>\n",
              "      <td>217.416000</td>\n",
              "      <td>1.477187e+06</td>\n",
              "      <td>5.000000</td>\n",
              "      <td>10.000000</td>\n",
              "    </tr>\n",
              "  </tbody>\n",
              "</table>\n",
              "</div>\n",
              "    <div class=\"colab-df-buttons\">\n",
              "\n",
              "  <div class=\"colab-df-container\">\n",
              "    <button class=\"colab-df-convert\" onclick=\"convertToInteractive('df-f95727c1-8ef7-46ed-a817-49950c4b565e')\"\n",
              "            title=\"Convert this dataframe to an interactive table.\"\n",
              "            style=\"display:none;\">\n",
              "\n",
              "  <svg xmlns=\"http://www.w3.org/2000/svg\" height=\"24px\" viewBox=\"0 -960 960 960\">\n",
              "    <path d=\"M120-120v-720h720v720H120Zm60-500h600v-160H180v160Zm220 220h160v-160H400v160Zm0 220h160v-160H400v160ZM180-400h160v-160H180v160Zm440 0h160v-160H620v160ZM180-180h160v-160H180v160Zm440 0h160v-160H620v160Z\"/>\n",
              "  </svg>\n",
              "    </button>\n",
              "\n",
              "  <style>\n",
              "    .colab-df-container {\n",
              "      display:flex;\n",
              "      gap: 12px;\n",
              "    }\n",
              "\n",
              "    .colab-df-convert {\n",
              "      background-color: #E8F0FE;\n",
              "      border: none;\n",
              "      border-radius: 50%;\n",
              "      cursor: pointer;\n",
              "      display: none;\n",
              "      fill: #1967D2;\n",
              "      height: 32px;\n",
              "      padding: 0 0 0 0;\n",
              "      width: 32px;\n",
              "    }\n",
              "\n",
              "    .colab-df-convert:hover {\n",
              "      background-color: #E2EBFA;\n",
              "      box-shadow: 0px 1px 2px rgba(60, 64, 67, 0.3), 0px 1px 3px 1px rgba(60, 64, 67, 0.15);\n",
              "      fill: #174EA6;\n",
              "    }\n",
              "\n",
              "    .colab-df-buttons div {\n",
              "      margin-bottom: 4px;\n",
              "    }\n",
              "\n",
              "    [theme=dark] .colab-df-convert {\n",
              "      background-color: #3B4455;\n",
              "      fill: #D2E3FC;\n",
              "    }\n",
              "\n",
              "    [theme=dark] .colab-df-convert:hover {\n",
              "      background-color: #434B5C;\n",
              "      box-shadow: 0px 1px 3px 1px rgba(0, 0, 0, 0.15);\n",
              "      filter: drop-shadow(0px 1px 2px rgba(0, 0, 0, 0.3));\n",
              "      fill: #FFFFFF;\n",
              "    }\n",
              "  </style>\n",
              "\n",
              "    <script>\n",
              "      const buttonEl =\n",
              "        document.querySelector('#df-f95727c1-8ef7-46ed-a817-49950c4b565e button.colab-df-convert');\n",
              "      buttonEl.style.display =\n",
              "        google.colab.kernel.accessAllowed ? 'block' : 'none';\n",
              "\n",
              "      async function convertToInteractive(key) {\n",
              "        const element = document.querySelector('#df-f95727c1-8ef7-46ed-a817-49950c4b565e');\n",
              "        const dataTable =\n",
              "          await google.colab.kernel.invokeFunction('convertToInteractive',\n",
              "                                                    [key], {});\n",
              "        if (!dataTable) return;\n",
              "\n",
              "        const docLinkHtml = 'Like what you see? Visit the ' +\n",
              "          '<a target=\"_blank\" href=https://colab.research.google.com/notebooks/data_table.ipynb>data table notebook</a>'\n",
              "          + ' to learn more about interactive tables.';\n",
              "        element.innerHTML = '';\n",
              "        dataTable['output_type'] = 'display_data';\n",
              "        await google.colab.output.renderOutput(dataTable, element);\n",
              "        const docLink = document.createElement('div');\n",
              "        docLink.innerHTML = docLinkHtml;\n",
              "        element.appendChild(docLink);\n",
              "      }\n",
              "    </script>\n",
              "  </div>\n",
              "\n",
              "\n",
              "<div id=\"df-cd29146a-af0d-4aef-bd64-89df1579f64d\">\n",
              "  <button class=\"colab-df-quickchart\" onclick=\"quickchart('df-cd29146a-af0d-4aef-bd64-89df1579f64d')\"\n",
              "            title=\"Suggest charts\"\n",
              "            style=\"display:none;\">\n",
              "\n",
              "<svg xmlns=\"http://www.w3.org/2000/svg\" height=\"24px\"viewBox=\"0 0 24 24\"\n",
              "     width=\"24px\">\n",
              "    <g>\n",
              "        <path d=\"M19 3H5c-1.1 0-2 .9-2 2v14c0 1.1.9 2 2 2h14c1.1 0 2-.9 2-2V5c0-1.1-.9-2-2-2zM9 17H7v-7h2v7zm4 0h-2V7h2v10zm4 0h-2v-4h2v4z\"/>\n",
              "    </g>\n",
              "</svg>\n",
              "  </button>\n",
              "\n",
              "<style>\n",
              "  .colab-df-quickchart {\n",
              "      --bg-color: #E8F0FE;\n",
              "      --fill-color: #1967D2;\n",
              "      --hover-bg-color: #E2EBFA;\n",
              "      --hover-fill-color: #174EA6;\n",
              "      --disabled-fill-color: #AAA;\n",
              "      --disabled-bg-color: #DDD;\n",
              "  }\n",
              "\n",
              "  [theme=dark] .colab-df-quickchart {\n",
              "      --bg-color: #3B4455;\n",
              "      --fill-color: #D2E3FC;\n",
              "      --hover-bg-color: #434B5C;\n",
              "      --hover-fill-color: #FFFFFF;\n",
              "      --disabled-bg-color: #3B4455;\n",
              "      --disabled-fill-color: #666;\n",
              "  }\n",
              "\n",
              "  .colab-df-quickchart {\n",
              "    background-color: var(--bg-color);\n",
              "    border: none;\n",
              "    border-radius: 50%;\n",
              "    cursor: pointer;\n",
              "    display: none;\n",
              "    fill: var(--fill-color);\n",
              "    height: 32px;\n",
              "    padding: 0;\n",
              "    width: 32px;\n",
              "  }\n",
              "\n",
              "  .colab-df-quickchart:hover {\n",
              "    background-color: var(--hover-bg-color);\n",
              "    box-shadow: 0 1px 2px rgba(60, 64, 67, 0.3), 0 1px 3px 1px rgba(60, 64, 67, 0.15);\n",
              "    fill: var(--button-hover-fill-color);\n",
              "  }\n",
              "\n",
              "  .colab-df-quickchart-complete:disabled,\n",
              "  .colab-df-quickchart-complete:disabled:hover {\n",
              "    background-color: var(--disabled-bg-color);\n",
              "    fill: var(--disabled-fill-color);\n",
              "    box-shadow: none;\n",
              "  }\n",
              "\n",
              "  .colab-df-spinner {\n",
              "    border: 2px solid var(--fill-color);\n",
              "    border-color: transparent;\n",
              "    border-bottom-color: var(--fill-color);\n",
              "    animation:\n",
              "      spin 1s steps(1) infinite;\n",
              "  }\n",
              "\n",
              "  @keyframes spin {\n",
              "    0% {\n",
              "      border-color: transparent;\n",
              "      border-bottom-color: var(--fill-color);\n",
              "      border-left-color: var(--fill-color);\n",
              "    }\n",
              "    20% {\n",
              "      border-color: transparent;\n",
              "      border-left-color: var(--fill-color);\n",
              "      border-top-color: var(--fill-color);\n",
              "    }\n",
              "    30% {\n",
              "      border-color: transparent;\n",
              "      border-left-color: var(--fill-color);\n",
              "      border-top-color: var(--fill-color);\n",
              "      border-right-color: var(--fill-color);\n",
              "    }\n",
              "    40% {\n",
              "      border-color: transparent;\n",
              "      border-right-color: var(--fill-color);\n",
              "      border-top-color: var(--fill-color);\n",
              "    }\n",
              "    60% {\n",
              "      border-color: transparent;\n",
              "      border-right-color: var(--fill-color);\n",
              "    }\n",
              "    80% {\n",
              "      border-color: transparent;\n",
              "      border-right-color: var(--fill-color);\n",
              "      border-bottom-color: var(--fill-color);\n",
              "    }\n",
              "    90% {\n",
              "      border-color: transparent;\n",
              "      border-bottom-color: var(--fill-color);\n",
              "    }\n",
              "  }\n",
              "</style>\n",
              "\n",
              "  <script>\n",
              "    async function quickchart(key) {\n",
              "      const quickchartButtonEl =\n",
              "        document.querySelector('#' + key + ' button');\n",
              "      quickchartButtonEl.disabled = true;  // To prevent multiple clicks.\n",
              "      quickchartButtonEl.classList.add('colab-df-spinner');\n",
              "      try {\n",
              "        const charts = await google.colab.kernel.invokeFunction(\n",
              "            'suggestCharts', [key], {});\n",
              "      } catch (error) {\n",
              "        console.error('Error during call to suggestCharts:', error);\n",
              "      }\n",
              "      quickchartButtonEl.classList.remove('colab-df-spinner');\n",
              "      quickchartButtonEl.classList.add('colab-df-quickchart-complete');\n",
              "    }\n",
              "    (() => {\n",
              "      let quickchartButtonEl =\n",
              "        document.querySelector('#df-cd29146a-af0d-4aef-bd64-89df1579f64d button');\n",
              "      quickchartButtonEl.style.display =\n",
              "        google.colab.kernel.accessAllowed ? 'block' : 'none';\n",
              "    })();\n",
              "  </script>\n",
              "</div>\n",
              "\n",
              "    </div>\n",
              "  </div>\n"
            ],
            "application/vnd.google.colaboratory.intrinsic+json": {
              "type": "dataframe",
              "summary": "{\n  \"name\": \"df\",\n  \"rows\": 8,\n  \"fields\": [\n    {\n      \"column\": \"Id\",\n      \"properties\": {\n        \"dtype\": \"number\",\n        \"std\": 5188.083253832872,\n        \"min\": 1.0,\n        \"max\": 14396.0,\n        \"num_unique_values\": 6,\n        \"samples\": [\n          14396.0,\n          7198.5,\n          10797.25\n        ],\n        \"semantic_type\": \"\",\n        \"description\": \"\"\n      }\n    },\n    {\n      \"column\": \"Popularity\",\n      \"properties\": {\n        \"dtype\": \"number\",\n        \"std\": 4957.159429716643,\n        \"min\": 1.0,\n        \"max\": 14063.0,\n        \"num_unique_values\": 8,\n        \"samples\": [\n          44.525207992604706,\n          44.0,\n          14063.0\n        ],\n        \"semantic_type\": \"\",\n        \"description\": \"\"\n      }\n    },\n    {\n      \"column\": \"danceability\",\n      \"properties\": {\n        \"dtype\": \"number\",\n        \"std\": 5089.583285972352,\n        \"min\": 0.0596,\n        \"max\": 14396.0,\n        \"num_unique_values\": 8,\n        \"samples\": [\n          0.5431053556543485,\n          0.545,\n          14396.0\n        ],\n        \"semantic_type\": \"\",\n        \"description\": \"\"\n      }\n    },\n    {\n      \"column\": \"energy\",\n      \"properties\": {\n        \"dtype\": \"number\",\n        \"std\": 5089.55422725912,\n        \"min\": 0.00121,\n        \"max\": 14396.0,\n        \"num_unique_values\": 8,\n        \"samples\": [\n          0.662421645595999,\n          0.699,\n          14396.0\n        ],\n        \"semantic_type\": \"\",\n        \"description\": \"\"\n      }\n    },\n    {\n      \"column\": \"key\",\n      \"properties\": {\n        \"dtype\": \"number\",\n        \"std\": 4518.910820798898,\n        \"min\": 1.0,\n        \"max\": 12787.0,\n        \"num_unique_values\": 8,\n        \"samples\": [\n          5.953781184015015,\n          6.0,\n          12787.0\n        ],\n        \"semantic_type\": \"\",\n        \"description\": \"\"\n      }\n    },\n    {\n      \"column\": \"loudness\",\n      \"properties\": {\n        \"dtype\": \"number\",\n        \"std\": 5093.013140979227,\n        \"min\": -39.952,\n        \"max\": 14396.0,\n        \"num_unique_values\": 8,\n        \"samples\": [\n          -7.900852181161434,\n          -7.0135000000000005,\n          14396.0\n        ],\n        \"semantic_type\": \"\",\n        \"description\": \"\"\n      }\n    },\n    {\n      \"column\": \"mode\",\n      \"properties\": {\n        \"dtype\": \"number\",\n        \"std\": 5089.546526924488,\n        \"min\": 0.0,\n        \"max\": 14396.0,\n        \"num_unique_values\": 5,\n        \"samples\": [\n          0.6402472909141428,\n          1.0,\n          0.4799444740117092\n        ],\n        \"semantic_type\": \"\",\n        \"description\": \"\"\n      }\n    },\n    {\n      \"column\": \"speechiness\",\n      \"properties\": {\n        \"dtype\": \"number\",\n        \"std\": 5089.688564939248,\n        \"min\": 0.0225,\n        \"max\": 14396.0,\n        \"num_unique_values\": 8,\n        \"samples\": [\n          0.08018064740205613,\n          0.0471,\n          14396.0\n        ],\n        \"semantic_type\": \"\",\n        \"description\": \"\"\n      }\n    },\n    {\n      \"column\": \"acousticness\",\n      \"properties\": {\n        \"dtype\": \"number\",\n        \"std\": 5089.649987217009,\n        \"min\": 0.0,\n        \"max\": 14396.0,\n        \"num_unique_values\": 8,\n        \"samples\": [\n          0.2467457084433176,\n          0.08145,\n          14396.0\n        ],\n        \"semantic_type\": \"\",\n        \"description\": \"\"\n      }\n    },\n    {\n      \"column\": \"instrumentalness\",\n      \"properties\": {\n        \"dtype\": \"number\",\n        \"std\": 3837.7370441967246,\n        \"min\": 1e-06,\n        \"max\": 10855.0,\n        \"num_unique_values\": 8,\n        \"samples\": [\n          0.17812871735974206,\n          0.00392,\n          10855.0\n        ],\n        \"semantic_type\": \"\",\n        \"description\": \"\"\n      }\n    },\n    {\n      \"column\": \"liveness\",\n      \"properties\": {\n        \"dtype\": \"number\",\n        \"std\": 5089.6616247742795,\n        \"min\": 0.0119,\n        \"max\": 14396.0,\n        \"num_unique_values\": 8,\n        \"samples\": [\n          0.19578227979994442,\n          0.129,\n          14396.0\n        ],\n        \"semantic_type\": \"\",\n        \"description\": \"\"\n      }\n    },\n    {\n      \"column\": \"valence\",\n      \"properties\": {\n        \"dtype\": \"number\",\n        \"std\": 5089.593759773381,\n        \"min\": 0.0215,\n        \"max\": 14396.0,\n        \"num_unique_values\": 8,\n        \"samples\": [\n          0.4863790150041678,\n          0.4805,\n          14396.0\n        ],\n        \"semantic_type\": \"\",\n        \"description\": \"\"\n      }\n    },\n    {\n      \"column\": \"tempo\",\n      \"properties\": {\n        \"dtype\": \"number\",\n        \"std\": 5051.628527682359,\n        \"min\": 29.53849048763212,\n        \"max\": 14396.0,\n        \"num_unique_values\": 8,\n        \"samples\": [\n          122.69537190886358,\n          120.06,\n          14396.0\n        ],\n        \"semantic_type\": \"\",\n        \"description\": \"\"\n      }\n    },\n    {\n      \"column\": \"duration_in min/ms\",\n      \"properties\": {\n        \"dtype\": \"number\",\n        \"std\": 482751.80982555205,\n        \"min\": 0.50165,\n        \"max\": 1477187.0,\n        \"num_unique_values\": 8,\n        \"samples\": [\n          200094.22282411318,\n          208941.0,\n          14396.0\n        ],\n        \"semantic_type\": \"\",\n        \"description\": \"\"\n      }\n    },\n    {\n      \"column\": \"time_signature\",\n      \"properties\": {\n        \"dtype\": \"number\",\n        \"std\": 5088.629366336146,\n        \"min\": 0.3595201050639569,\n        \"max\": 14396.0,\n        \"num_unique_values\": 6,\n        \"samples\": [\n          14396.0,\n          3.9243539872186717,\n          5.0\n        ],\n        \"semantic_type\": \"\",\n        \"description\": \"\"\n      }\n    },\n    {\n      \"column\": \"Class\",\n      \"properties\": {\n        \"dtype\": \"number\",\n        \"std\": 5087.5888800237235,\n        \"min\": 0.0,\n        \"max\": 14396.0,\n        \"num_unique_values\": 7,\n        \"samples\": [\n          14396.0,\n          6.695679355376494,\n          8.0\n        ],\n        \"semantic_type\": \"\",\n        \"description\": \"\"\n      }\n    }\n  ]\n}"
            }
          },
          "metadata": {},
          "execution_count": 75
        }
      ],
      "source": [
        "import pandas as pd\n",
        "import numpy as np\n",
        "\n",
        "# Load the dataset\n",
        "df =pd.read_csv('/content/drive/MyDrive/music-genre-classification-2024/music train.csv')\n",
        "\n",
        "# Display basic information about the dataset\n",
        "df.info()\n",
        "df.describe()"
      ]
    },
    {
      "cell_type": "code",
      "source": [
        "from google.colab import drive\n",
        "drive.mount('/content/drive')"
      ],
      "metadata": {
        "colab": {
          "base_uri": "https://localhost:8080/"
        },
        "id": "Dvu4kp7foJjn",
        "outputId": "d2fa0e55-2611-452d-a853-329ce489284a"
      },
      "execution_count": null,
      "outputs": [
        {
          "output_type": "stream",
          "name": "stdout",
          "text": [
            "Drive already mounted at /content/drive; to attempt to forcibly remount, call drive.mount(\"/content/drive\", force_remount=True).\n"
          ]
        }
      ]
    },
    {
      "cell_type": "code",
      "execution_count": null,
      "metadata": {
        "colab": {
          "base_uri": "https://localhost:8080/",
          "height": 188
        },
        "id": "2q8_J3vMaoT8",
        "outputId": "9e3a827d-efcd-4b21-9c89-f9e4b6ad0905"
      },
      "outputs": [
        {
          "output_type": "execute_result",
          "data": {
            "text/plain": [
              "<bound method Series.unique of 0         9\n",
              "1         6\n",
              "2        10\n",
              "3         2\n",
              "4         5\n",
              "         ..\n",
              "14391    10\n",
              "14392     8\n",
              "14393    10\n",
              "14394    10\n",
              "14395     4\n",
              "Name: Class, Length: 14396, dtype: int64>"
            ],
            "text/html": [
              "<div style=\"max-width:800px; border: 1px solid var(--colab-border-color);\"><style>\n",
              "      pre.function-repr-contents {\n",
              "        overflow-x: auto;\n",
              "        padding: 8px 12px;\n",
              "        max-height: 500px;\n",
              "      }\n",
              "\n",
              "      pre.function-repr-contents.function-repr-contents-collapsed {\n",
              "        cursor: pointer;\n",
              "        max-height: 100px;\n",
              "      }\n",
              "    </style>\n",
              "    <pre style=\"white-space: initial; background:\n",
              "         var(--colab-secondary-surface-color); padding: 8px 12px;\n",
              "         border-bottom: 1px solid var(--colab-border-color);\"><b>pandas.core.series.Series.unique</b><br/>def unique() -&gt; ArrayLike</pre><pre class=\"function-repr-contents function-repr-contents-collapsed\" style=\"\"><a class=\"filepath\" style=\"display:none\" href=\"#\">/usr/local/lib/python3.10/dist-packages/pandas/core/series.py</a>Return unique values of Series object.\n",
              "\n",
              "Uniques are returned in order of appearance. Hash table-based unique,\n",
              "therefore does NOT sort.\n",
              "\n",
              "Returns\n",
              "-------\n",
              "ndarray or ExtensionArray\n",
              "    The unique values returned as a NumPy array. See Notes.\n",
              "\n",
              "See Also\n",
              "--------\n",
              "Series.drop_duplicates : Return Series with duplicate values removed.\n",
              "unique : Top-level unique method for any 1-d array-like object.\n",
              "Index.unique : Return Index with unique values from an Index object.\n",
              "\n",
              "Notes\n",
              "-----\n",
              "Returns the unique values as a NumPy array. In case of an\n",
              "extension-array backed Series, a new\n",
              ":class:`~api.extensions.ExtensionArray` of that type with just\n",
              "the unique values is returned. This includes\n",
              "\n",
              "    * Categorical\n",
              "    * Period\n",
              "    * Datetime with Timezone\n",
              "    * Datetime without Timezone\n",
              "    * Timedelta\n",
              "    * Interval\n",
              "    * Sparse\n",
              "    * IntegerNA\n",
              "\n",
              "See Examples section.\n",
              "\n",
              "Examples\n",
              "--------\n",
              "&gt;&gt;&gt; pd.Series([2, 1, 3, 3], name=&#x27;A&#x27;).unique()\n",
              "array([2, 1, 3])\n",
              "\n",
              "&gt;&gt;&gt; pd.Series([pd.Timestamp(&#x27;2016-01-01&#x27;) for _ in range(3)]).unique()\n",
              "&lt;DatetimeArray&gt;\n",
              "[&#x27;2016-01-01 00:00:00&#x27;]\n",
              "Length: 1, dtype: datetime64[ns]\n",
              "\n",
              "&gt;&gt;&gt; pd.Series([pd.Timestamp(&#x27;2016-01-01&#x27;, tz=&#x27;US/Eastern&#x27;)\n",
              "...            for _ in range(3)]).unique()\n",
              "&lt;DatetimeArray&gt;\n",
              "[&#x27;2016-01-01 00:00:00-05:00&#x27;]\n",
              "Length: 1, dtype: datetime64[ns, US/Eastern]\n",
              "\n",
              "An Categorical will return categories in the order of\n",
              "appearance and with the same dtype.\n",
              "\n",
              "&gt;&gt;&gt; pd.Series(pd.Categorical(list(&#x27;baabc&#x27;))).unique()\n",
              "[&#x27;b&#x27;, &#x27;a&#x27;, &#x27;c&#x27;]\n",
              "Categories (3, object): [&#x27;a&#x27;, &#x27;b&#x27;, &#x27;c&#x27;]\n",
              "&gt;&gt;&gt; pd.Series(pd.Categorical(list(&#x27;baabc&#x27;), categories=list(&#x27;abc&#x27;),\n",
              "...                          ordered=True)).unique()\n",
              "[&#x27;b&#x27;, &#x27;a&#x27;, &#x27;c&#x27;]\n",
              "Categories (3, object): [&#x27;a&#x27; &lt; &#x27;b&#x27; &lt; &#x27;c&#x27;]</pre>\n",
              "      <script>\n",
              "      if (google.colab.kernel.accessAllowed && google.colab.files && google.colab.files.view) {\n",
              "        for (const element of document.querySelectorAll('.filepath')) {\n",
              "          element.style.display = 'block'\n",
              "          element.onclick = (event) => {\n",
              "            event.preventDefault();\n",
              "            event.stopPropagation();\n",
              "            google.colab.files.view(element.textContent, 2228);\n",
              "          };\n",
              "        }\n",
              "      }\n",
              "      for (const element of document.querySelectorAll('.function-repr-contents')) {\n",
              "        element.onclick = (event) => {\n",
              "          event.preventDefault();\n",
              "          event.stopPropagation();\n",
              "          element.classList.toggle('function-repr-contents-collapsed');\n",
              "        };\n",
              "      }\n",
              "      </script>\n",
              "      </div>"
            ]
          },
          "metadata": {},
          "execution_count": 77
        }
      ],
      "source": [
        "df['Class'].unique\n"
      ]
    },
    {
      "cell_type": "markdown",
      "metadata": {
        "id": "9VthVUsLaoT9"
      },
      "source": [
        "### 1.2 Explore Class disrtibution\n"
      ]
    },
    {
      "cell_type": "code",
      "execution_count": null,
      "metadata": {
        "colab": {
          "base_uri": "https://localhost:8080/",
          "height": 564
        },
        "id": "_7UKScksaoT-",
        "outputId": "fef87d7e-6aa4-4e74-a143-14684ffd70e1"
      },
      "outputs": [
        {
          "output_type": "display_data",
          "data": {
            "text/plain": [
              "<Figure size 1000x600 with 1 Axes>"
            ],
            "image/png": "[encoded data removed]"
          },
          "metadata": {}
        }
      ],
      "source": [
        "import seaborn as sns\n",
        "import matplotlib.pyplot as plt\n",
        "\n",
        "# Plot the distribution of music genres\n",
        "plt.figure(figsize=(10, 6))\n",
        "sns.countplot(y='Class', data=df, order=df['Class'].value_counts().index)\n",
        "plt.title('Distribution of Music Genres')\n",
        "plt.show()"
      ]
    },
    {
      "cell_type": "markdown",
      "metadata": {
        "id": "23adbbQfaoT-"
      },
      "source": [
        "##### Understanding the distribution of the class is important as we can see that the data is imbalanced which can have an effect on the models' performance.\n"
      ]
    },
    {
      "cell_type": "markdown",
      "metadata": {
        "id": "yvRYomw-aoT_"
      },
      "source": [
        "### 1.3 Feauture correlation\n"
      ]
    },
    {
      "cell_type": "code",
      "execution_count": null,
      "metadata": {
        "id": "fTluPdk2aoUA"
      },
      "outputs": [],
      "source": [
        "# # Compute the correlation matrix\n",
        "# correlation_matrix = df.corr()\n",
        "\n",
        "# # Plot the heatmap\n",
        "# plt.figure(figsize=(14, 10))\n",
        "# sns.heatmap(correlation_matrix, annot=True, fmt=\".2f\", cmap='coolwarm')\n",
        "# plt.title('Correlation Matrix of Features')\n",
        "# plt.show()"
      ]
    },
    {
      "cell_type": "markdown",
      "metadata": {
        "id": "hJw6nAkCaoUB"
      },
      "source": [
        "##### _It is noted that:_\n",
        "\n",
        "##### 1- energy and loudness have a high positive correlation 0.77\n",
        "\n",
        "##### 2- danceability and valence have a mild positive correlation 0.44\n",
        "\n",
        "##### 3- energy and acousticness have a high negative correlation -0.75\n",
        "\n",
        "##### 4- loudeness and acousticness have a high negative correlation -0.61\n",
        "\n",
        "##### 5- loudeness and instrumentalness have a mild negative correlation -0.35\n"
      ]
    },
    {
      "cell_type": "markdown",
      "metadata": {
        "id": "AxvT50xnaoUB"
      },
      "source": [
        "### 1.4 Visualize key features\n"
      ]
    },
    {
      "cell_type": "markdown",
      "metadata": {
        "id": "o95Bx1RNaoUC"
      },
      "source": [
        "##### Visualizing how key features are distributed across different genres can provide insights into their importance and relationships with the target variable.\n"
      ]
    },
    {
      "cell_type": "code",
      "execution_count": null,
      "metadata": {
        "colab": {
          "base_uri": "https://localhost:8080/",
          "height": 564
        },
        "id": "bjNIt1GmaoUC",
        "outputId": "e7872aad-49af-4e64-de5c-6b74179b2953"
      },
      "outputs": [
        {
          "output_type": "display_data",
          "data": {
            "text/plain": [
              "<Figure size 1000x600 with 1 Axes>"
            ],
            "image/png": "[encoded data removed]"
          },
          "metadata": {}
        }
      ],
      "source": [
        "plt.figure(figsize=(10, 6))\n",
        "sns.boxplot(x='Class', y='acousticness', data=df)\n",
        "plt.title('acousticness Distribution by Class')\n",
        "plt.show()\n"
      ]
    },
    {
      "cell_type": "code",
      "execution_count": null,
      "metadata": {
        "colab": {
          "base_uri": "https://localhost:8080/",
          "height": 564
        },
        "id": "kCIQlLg5aoUD",
        "outputId": "5aa722ed-6be1-449d-a3dc-f664c30b5504"
      },
      "outputs": [
        {
          "output_type": "display_data",
          "data": {
            "text/plain": [
              "<Figure size 1000x600 with 1 Axes>"
            ],
            "image/png": "[encoded data removed]"
          },
          "metadata": {}
        }
      ],
      "source": [
        "plt.figure(figsize=(10, 6))\n",
        "sns.boxplot(x='Class', y='energy', data=df)\n",
        "plt.title('energy Distribution by Class')\n",
        "plt.show()\n"
      ]
    },
    {
      "cell_type": "markdown",
      "metadata": {
        "id": "Pa4HHG0UaoUE"
      },
      "source": [
        "### 1.5 Detecing outliers\n"
      ]
    },
    {
      "cell_type": "code",
      "execution_count": null,
      "metadata": {
        "colab": {
          "base_uri": "https://localhost:8080/",
          "height": 1000
        },
        "id": "8PGQtvlxaoUF",
        "outputId": "8b9b1d76-7f03-4dfe-9397-7557ffa0babe"
      },
      "outputs": [
        {
          "output_type": "display_data",
          "data": {
            "text/plain": [
              "<Figure size 1500x1500 with 16 Axes>"
            ],
            "image/png": "[encoded data removed]"
          },
          "metadata": {}
        }
      ],
      "source": [
        "import matplotlib.pyplot as plt\n",
        "\n",
        "# Visualize with Boxplots for each feature\n",
        "df.plot(kind='box', subplots=True, layout=(4,4), sharex=False, sharey=False, figsize=(15,15))\n",
        "plt.suptitle('Boxplot of Each Feature')\n",
        "plt.show()"
      ]
    },
    {
      "cell_type": "markdown",
      "metadata": {
        "id": "P3CR6sebaoUG"
      },
      "source": [
        "# 2. Data Preprocessing\n"
      ]
    },
    {
      "cell_type": "markdown",
      "metadata": {
        "id": "qFP4VPtcaoUG"
      },
      "source": [
        "### 2.1 Splitting the data\n"
      ]
    },
    {
      "cell_type": "code",
      "execution_count": null,
      "metadata": {
        "id": "Oj6jgzLqaoUG"
      },
      "outputs": [],
      "source": [
        "from sklearn.model_selection import train_test_split\n",
        "\n",
        "X = df.drop('Class', axis=1)\n",
        "y = df['Class']\n",
        "\n",
        "X_train, X_test, y_train, y_test = train_test_split(X, y, test_size=0.2, random_state=42)\n"
      ]
    },
    {
      "cell_type": "markdown",
      "metadata": {
        "id": "lvlPh6GhaoUH"
      },
      "source": [
        "### 2.2 Handling missing values and unecessary features\n"
      ]
    },
    {
      "cell_type": "code",
      "execution_count": null,
      "metadata": {
        "colab": {
          "base_uri": "https://localhost:8080/",
          "height": 617
        },
        "id": "1_6-S0bNaoUH",
        "outputId": "bff6cf0d-596a-4d3d-fcab-45e6185a781a"
      },
      "outputs": [
        {
          "output_type": "execute_result",
          "data": {
            "text/plain": [
              "Id                       0\n",
              "Artist Name              0\n",
              "Track Name               0\n",
              "Popularity             264\n",
              "danceability             0\n",
              "energy                   0\n",
              "key                   1296\n",
              "loudness                 0\n",
              "mode                     0\n",
              "speechiness              0\n",
              "acousticness             0\n",
              "instrumentalness      2819\n",
              "liveness                 0\n",
              "valence                  0\n",
              "tempo                    0\n",
              "duration_in min/ms       0\n",
              "time_signature           0\n",
              "dtype: int64"
            ],
            "text/html": [
              "<div>\n",
              "<style scoped>\n",
              "    .dataframe tbody tr th:only-of-type {\n",
              "        vertical-align: middle;\n",
              "    }\n",
              "\n",
              "    .dataframe tbody tr th {\n",
              "        vertical-align: top;\n",
              "    }\n",
              "\n",
              "    .dataframe thead th {\n",
              "        text-align: right;\n",
              "    }\n",
              "</style>\n",
              "<table border=\"1\" class=\"dataframe\">\n",
              "  <thead>\n",
              "    <tr style=\"text-align: right;\">\n",
              "      <th></th>\n",
              "      <th>0</th>\n",
              "    </tr>\n",
              "  </thead>\n",
              "  <tbody>\n",
              "    <tr>\n",
              "      <th>Id</th>\n",
              "      <td>0</td>\n",
              "    </tr>\n",
              "    <tr>\n",
              "      <th>Artist Name</th>\n",
              "      <td>0</td>\n",
              "    </tr>\n",
              "    <tr>\n",
              "      <th>Track Name</th>\n",
              "      <td>0</td>\n",
              "    </tr>\n",
              "    <tr>\n",
              "      <th>Popularity</th>\n",
              "      <td>264</td>\n",
              "    </tr>\n",
              "    <tr>\n",
              "      <th>danceability</th>\n",
              "      <td>0</td>\n",
              "    </tr>\n",
              "    <tr>\n",
              "      <th>energy</th>\n",
              "      <td>0</td>\n",
              "    </tr>\n",
              "    <tr>\n",
              "      <th>key</th>\n",
              "      <td>1296</td>\n",
              "    </tr>\n",
              "    <tr>\n",
              "      <th>loudness</th>\n",
              "      <td>0</td>\n",
              "    </tr>\n",
              "    <tr>\n",
              "      <th>mode</th>\n",
              "      <td>0</td>\n",
              "    </tr>\n",
              "    <tr>\n",
              "      <th>speechiness</th>\n",
              "      <td>0</td>\n",
              "    </tr>\n",
              "    <tr>\n",
              "      <th>acousticness</th>\n",
              "      <td>0</td>\n",
              "    </tr>\n",
              "    <tr>\n",
              "      <th>instrumentalness</th>\n",
              "      <td>2819</td>\n",
              "    </tr>\n",
              "    <tr>\n",
              "      <th>liveness</th>\n",
              "      <td>0</td>\n",
              "    </tr>\n",
              "    <tr>\n",
              "      <th>valence</th>\n",
              "      <td>0</td>\n",
              "    </tr>\n",
              "    <tr>\n",
              "      <th>tempo</th>\n",
              "      <td>0</td>\n",
              "    </tr>\n",
              "    <tr>\n",
              "      <th>duration_in min/ms</th>\n",
              "      <td>0</td>\n",
              "    </tr>\n",
              "    <tr>\n",
              "      <th>time_signature</th>\n",
              "      <td>0</td>\n",
              "    </tr>\n",
              "  </tbody>\n",
              "</table>\n",
              "</div><br><label><b>dtype:</b> int64</label>"
            ]
          },
          "metadata": {},
          "execution_count": 84
        }
      ],
      "source": [
        "X_train.isnull().sum()"
      ]
    },
    {
      "cell_type": "markdown",
      "metadata": {
        "id": "73a9lyawaoUI"
      },
      "source": [
        "##### Since there is no correlation between class and key (correlation = 0) and very low correlation between class and instrumentalness (correlation = -0.03) and because the null values represent a fine percentage of the overall data: we can delete these two features completely.\n",
        "\n",
        "##### As for the popularity feature, and because the missing values are not that many, we can simply delete these rows or we can fill them with the median value and we are going to follow the first approach.\n",
        "\n",
        "##### As for the Id feature, it has no importance and its correlation with the Class is 0, so it will be dropped too.\n"
      ]
    },
    {
      "cell_type": "code",
      "execution_count": null,
      "metadata": {
        "id": "iNVgVOcVaoUJ"
      },
      "outputs": [],
      "source": [
        "# # Drop unnecessary columns\n",
        "# X_train.drop(['key', 'instrumentalness', 'Id'], axis=1, inplace=True)\n",
        "# X_test.drop(['key', 'instrumentalness', 'Id'], axis=1, inplace=True)"
      ]
    },
    {
      "cell_type": "code",
      "execution_count": null,
      "metadata": {
        "colab": {
          "base_uri": "https://localhost:8080/",
          "height": 490
        },
        "id": "3Brl6J0TaoUK",
        "outputId": "03cc9ac3-f986-4379-ccbf-67bd804adb56"
      },
      "outputs": [
        {
          "output_type": "execute_result",
          "data": {
            "text/plain": [
              "instrumentalness\n",
              "0.000109    15\n",
              "0.899000    14\n",
              "0.112000    13\n",
              "0.914000    12\n",
              "0.929000    12\n",
              "            ..\n",
              "0.000009     1\n",
              "0.594000     1\n",
              "0.334000     1\n",
              "0.000044     1\n",
              "0.000009     1\n",
              "Name: count, Length: 3659, dtype: int64"
            ],
            "text/html": [
              "<div>\n",
              "<style scoped>\n",
              "    .dataframe tbody tr th:only-of-type {\n",
              "        vertical-align: middle;\n",
              "    }\n",
              "\n",
              "    .dataframe tbody tr th {\n",
              "        vertical-align: top;\n",
              "    }\n",
              "\n",
              "    .dataframe thead th {\n",
              "        text-align: right;\n",
              "    }\n",
              "</style>\n",
              "<table border=\"1\" class=\"dataframe\">\n",
              "  <thead>\n",
              "    <tr style=\"text-align: right;\">\n",
              "      <th></th>\n",
              "      <th>count</th>\n",
              "    </tr>\n",
              "    <tr>\n",
              "      <th>instrumentalness</th>\n",
              "      <th></th>\n",
              "    </tr>\n",
              "  </thead>\n",
              "  <tbody>\n",
              "    <tr>\n",
              "      <th>0.000109</th>\n",
              "      <td>15</td>\n",
              "    </tr>\n",
              "    <tr>\n",
              "      <th>0.899000</th>\n",
              "      <td>14</td>\n",
              "    </tr>\n",
              "    <tr>\n",
              "      <th>0.112000</th>\n",
              "      <td>13</td>\n",
              "    </tr>\n",
              "    <tr>\n",
              "      <th>0.914000</th>\n",
              "      <td>12</td>\n",
              "    </tr>\n",
              "    <tr>\n",
              "      <th>0.929000</th>\n",
              "      <td>12</td>\n",
              "    </tr>\n",
              "    <tr>\n",
              "      <th>...</th>\n",
              "      <td>...</td>\n",
              "    </tr>\n",
              "    <tr>\n",
              "      <th>0.000009</th>\n",
              "      <td>1</td>\n",
              "    </tr>\n",
              "    <tr>\n",
              "      <th>0.594000</th>\n",
              "      <td>1</td>\n",
              "    </tr>\n",
              "    <tr>\n",
              "      <th>0.334000</th>\n",
              "      <td>1</td>\n",
              "    </tr>\n",
              "    <tr>\n",
              "      <th>0.000044</th>\n",
              "      <td>1</td>\n",
              "    </tr>\n",
              "    <tr>\n",
              "      <th>0.000009</th>\n",
              "      <td>1</td>\n",
              "    </tr>\n",
              "  </tbody>\n",
              "</table>\n",
              "<p>3659 rows × 1 columns</p>\n",
              "</div><br><label><b>dtype:</b> int64</label>"
            ]
          },
          "metadata": {},
          "execution_count": 86
        }
      ],
      "source": [
        "X_train['instrumentalness'].value_counts()"
      ]
    },
    {
      "cell_type": "code",
      "execution_count": null,
      "metadata": {
        "colab": {
          "base_uri": "https://localhost:8080/",
          "height": 461
        },
        "id": "uluNtsPLaoUL",
        "outputId": "b70ba16b-385d-45be-b5bf-357c4b20f8ac"
      },
      "outputs": [
        {
          "output_type": "execute_result",
          "data": {
            "text/plain": [
              "key\n",
              "7.0     1313\n",
              "2.0     1283\n",
              "9.0     1264\n",
              "1.0     1063\n",
              "4.0     1004\n",
              "11.0     928\n",
              "5.0      912\n",
              "6.0      780\n",
              "8.0      699\n",
              "10.0     659\n",
              "3.0      315\n",
              "Name: count, dtype: int64"
            ],
            "text/html": [
              "<div>\n",
              "<style scoped>\n",
              "    .dataframe tbody tr th:only-of-type {\n",
              "        vertical-align: middle;\n",
              "    }\n",
              "\n",
              "    .dataframe tbody tr th {\n",
              "        vertical-align: top;\n",
              "    }\n",
              "\n",
              "    .dataframe thead th {\n",
              "        text-align: right;\n",
              "    }\n",
              "</style>\n",
              "<table border=\"1\" class=\"dataframe\">\n",
              "  <thead>\n",
              "    <tr style=\"text-align: right;\">\n",
              "      <th></th>\n",
              "      <th>count</th>\n",
              "    </tr>\n",
              "    <tr>\n",
              "      <th>key</th>\n",
              "      <th></th>\n",
              "    </tr>\n",
              "  </thead>\n",
              "  <tbody>\n",
              "    <tr>\n",
              "      <th>7.0</th>\n",
              "      <td>1313</td>\n",
              "    </tr>\n",
              "    <tr>\n",
              "      <th>2.0</th>\n",
              "      <td>1283</td>\n",
              "    </tr>\n",
              "    <tr>\n",
              "      <th>9.0</th>\n",
              "      <td>1264</td>\n",
              "    </tr>\n",
              "    <tr>\n",
              "      <th>1.0</th>\n",
              "      <td>1063</td>\n",
              "    </tr>\n",
              "    <tr>\n",
              "      <th>4.0</th>\n",
              "      <td>1004</td>\n",
              "    </tr>\n",
              "    <tr>\n",
              "      <th>11.0</th>\n",
              "      <td>928</td>\n",
              "    </tr>\n",
              "    <tr>\n",
              "      <th>5.0</th>\n",
              "      <td>912</td>\n",
              "    </tr>\n",
              "    <tr>\n",
              "      <th>6.0</th>\n",
              "      <td>780</td>\n",
              "    </tr>\n",
              "    <tr>\n",
              "      <th>8.0</th>\n",
              "      <td>699</td>\n",
              "    </tr>\n",
              "    <tr>\n",
              "      <th>10.0</th>\n",
              "      <td>659</td>\n",
              "    </tr>\n",
              "    <tr>\n",
              "      <th>3.0</th>\n",
              "      <td>315</td>\n",
              "    </tr>\n",
              "  </tbody>\n",
              "</table>\n",
              "</div><br><label><b>dtype:</b> int64</label>"
            ]
          },
          "metadata": {},
          "execution_count": 87
        }
      ],
      "source": [
        "X_train['key'].value_counts()"
      ]
    },
    {
      "cell_type": "code",
      "execution_count": null,
      "metadata": {
        "colab": {
          "base_uri": "https://localhost:8080/",
          "height": 490
        },
        "id": "cc-07IrBaoUM",
        "outputId": "003badbe-2b0c-4b08-b9e3-620e54de2668"
      },
      "outputs": [
        {
          "output_type": "execute_result",
          "data": {
            "text/plain": [
              "Popularity\n",
              "42.0     294\n",
              "41.0     291\n",
              "34.0     283\n",
              "46.0     271\n",
              "43.0     271\n",
              "        ... \n",
              "92.0       3\n",
              "96.0       2\n",
              "97.0       1\n",
              "100.0      1\n",
              "98.0       1\n",
              "Name: count, Length: 99, dtype: int64"
            ],
            "text/html": [
              "<div>\n",
              "<style scoped>\n",
              "    .dataframe tbody tr th:only-of-type {\n",
              "        vertical-align: middle;\n",
              "    }\n",
              "\n",
              "    .dataframe tbody tr th {\n",
              "        vertical-align: top;\n",
              "    }\n",
              "\n",
              "    .dataframe thead th {\n",
              "        text-align: right;\n",
              "    }\n",
              "</style>\n",
              "<table border=\"1\" class=\"dataframe\">\n",
              "  <thead>\n",
              "    <tr style=\"text-align: right;\">\n",
              "      <th></th>\n",
              "      <th>count</th>\n",
              "    </tr>\n",
              "    <tr>\n",
              "      <th>Popularity</th>\n",
              "      <th></th>\n",
              "    </tr>\n",
              "  </thead>\n",
              "  <tbody>\n",
              "    <tr>\n",
              "      <th>42.0</th>\n",
              "      <td>294</td>\n",
              "    </tr>\n",
              "    <tr>\n",
              "      <th>41.0</th>\n",
              "      <td>291</td>\n",
              "    </tr>\n",
              "    <tr>\n",
              "      <th>34.0</th>\n",
              "      <td>283</td>\n",
              "    </tr>\n",
              "    <tr>\n",
              "      <th>46.0</th>\n",
              "      <td>271</td>\n",
              "    </tr>\n",
              "    <tr>\n",
              "      <th>43.0</th>\n",
              "      <td>271</td>\n",
              "    </tr>\n",
              "    <tr>\n",
              "      <th>...</th>\n",
              "      <td>...</td>\n",
              "    </tr>\n",
              "    <tr>\n",
              "      <th>92.0</th>\n",
              "      <td>3</td>\n",
              "    </tr>\n",
              "    <tr>\n",
              "      <th>96.0</th>\n",
              "      <td>2</td>\n",
              "    </tr>\n",
              "    <tr>\n",
              "      <th>97.0</th>\n",
              "      <td>1</td>\n",
              "    </tr>\n",
              "    <tr>\n",
              "      <th>100.0</th>\n",
              "      <td>1</td>\n",
              "    </tr>\n",
              "    <tr>\n",
              "      <th>98.0</th>\n",
              "      <td>1</td>\n",
              "    </tr>\n",
              "  </tbody>\n",
              "</table>\n",
              "<p>99 rows × 1 columns</p>\n",
              "</div><br><label><b>dtype:</b> int64</label>"
            ]
          },
          "metadata": {},
          "execution_count": 88
        }
      ],
      "source": [
        "X_train['Popularity'].value_counts()"
      ]
    },
    {
      "cell_type": "code",
      "execution_count": null,
      "metadata": {
        "colab": {
          "base_uri": "https://localhost:8080/",
          "height": 459
        },
        "id": "gqnapzb1aoUM",
        "outputId": "206f143f-5b50-409b-8476-db371fbb8ca4"
      },
      "outputs": [
        {
          "output_type": "execute_result",
          "data": {
            "text/plain": [
              "6913     10\n",
              "13624     9\n",
              "13587     7\n",
              "8140      2\n",
              "11691     6\n",
              "         ..\n",
              "5191      5\n",
              "13418     1\n",
              "5390     10\n",
              "860       5\n",
              "7270      6\n",
              "Name: Class, Length: 11516, dtype: int64"
            ],
            "text/html": [
              "<div>\n",
              "<style scoped>\n",
              "    .dataframe tbody tr th:only-of-type {\n",
              "        vertical-align: middle;\n",
              "    }\n",
              "\n",
              "    .dataframe tbody tr th {\n",
              "        vertical-align: top;\n",
              "    }\n",
              "\n",
              "    .dataframe thead th {\n",
              "        text-align: right;\n",
              "    }\n",
              "</style>\n",
              "<table border=\"1\" class=\"dataframe\">\n",
              "  <thead>\n",
              "    <tr style=\"text-align: right;\">\n",
              "      <th></th>\n",
              "      <th>Class</th>\n",
              "    </tr>\n",
              "  </thead>\n",
              "  <tbody>\n",
              "    <tr>\n",
              "      <th>6913</th>\n",
              "      <td>10</td>\n",
              "    </tr>\n",
              "    <tr>\n",
              "      <th>13624</th>\n",
              "      <td>9</td>\n",
              "    </tr>\n",
              "    <tr>\n",
              "      <th>13587</th>\n",
              "      <td>7</td>\n",
              "    </tr>\n",
              "    <tr>\n",
              "      <th>8140</th>\n",
              "      <td>2</td>\n",
              "    </tr>\n",
              "    <tr>\n",
              "      <th>11691</th>\n",
              "      <td>6</td>\n",
              "    </tr>\n",
              "    <tr>\n",
              "      <th>...</th>\n",
              "      <td>...</td>\n",
              "    </tr>\n",
              "    <tr>\n",
              "      <th>5191</th>\n",
              "      <td>5</td>\n",
              "    </tr>\n",
              "    <tr>\n",
              "      <th>13418</th>\n",
              "      <td>1</td>\n",
              "    </tr>\n",
              "    <tr>\n",
              "      <th>5390</th>\n",
              "      <td>10</td>\n",
              "    </tr>\n",
              "    <tr>\n",
              "      <th>860</th>\n",
              "      <td>5</td>\n",
              "    </tr>\n",
              "    <tr>\n",
              "      <th>7270</th>\n",
              "      <td>6</td>\n",
              "    </tr>\n",
              "  </tbody>\n",
              "</table>\n",
              "<p>11516 rows × 1 columns</p>\n",
              "</div><br><label><b>dtype:</b> int64</label>"
            ]
          },
          "metadata": {},
          "execution_count": 89
        }
      ],
      "source": [
        "y_train"
      ]
    },
    {
      "cell_type": "code",
      "source": [
        "print(y_train.isnull().sum())"
      ],
      "metadata": {
        "colab": {
          "base_uri": "https://localhost:8080/"
        },
        "id": "VGtfg78Bo4dc",
        "outputId": "c3fc2dfb-3f0c-4b23-f0fc-9c7aea3cef88"
      },
      "execution_count": null,
      "outputs": [
        {
          "output_type": "stream",
          "name": "stdout",
          "text": [
            "0\n"
          ]
        }
      ]
    },
    {
      "cell_type": "code",
      "source": [
        "print(X_train['Popularity'].isnull().sum())"
      ],
      "metadata": {
        "colab": {
          "base_uri": "https://localhost:8080/"
        },
        "id": "jgIECoBFo6cT",
        "outputId": "058e02a5-1bf9-4e71-df6b-b51a33e76fbf"
      },
      "execution_count": null,
      "outputs": [
        {
          "output_type": "stream",
          "name": "stdout",
          "text": [
            "264\n"
          ]
        }
      ]
    },
    {
      "cell_type": "code",
      "source": [
        "# Fill missing values in continuous features with the mean\n",
        "X_train['Popularity'] = X_train['Popularity'].fillna(X_train['Popularity'].mean())\n",
        "X_test['Popularity'] = X_test['Popularity'].fillna(X_train['Popularity'].mean())\n",
        "\n",
        "X_train['instrumentalness'] = X_train['instrumentalness'].fillna(X_train['instrumentalness'].mean())\n",
        "X_test['instrumentalness'] = X_test['instrumentalness'].fillna(X_train['instrumentalness'].mean())\n",
        "\n",
        "X_train['key'] = X_train['key'].fillna(X_train['key'].mean())\n",
        "X_test['key'] = X_test['key'].fillna(X_train['key'].mean())\n",
        "\n",
        "# Apply new binning to convert continuous features into categorical variables\n",
        "\n",
        "# Binning 'popularity'\n",
        "X_train['popularity_binned'] = pd.cut(X_train['Popularity'], bins=99, labels=np.arange(99))\n",
        "X_test['popularity_binned'] = pd.cut(X_test['Popularity'], bins=99, labels=np.arange(99))\n",
        "\n",
        "# Binning 'instrumentalness'\n",
        "X_train['instrumentalness_binned'] = pd.cut(X_train['instrumentalness'], bins=10, labels=False)\n",
        "X_test['instrumentalness_binned'] = pd.cut(X_test['instrumentalness'], bins=10, labels=False)\n",
        "\n",
        "# Binning 'key' into 10 bins\n",
        "X_train['key_binned'] = pd.cut(X_train['key'], bins=np.arange(0, 12, 1), labels=np.arange(11))\n",
        "X_test['key_binned'] = pd.cut(X_test['key'], bins=np.arange(0, 12, 1), labels=np.arange(11))\n",
        "\n",
        "\n",
        "\n",
        "# بشكل عام، يساعد هذا الكود في تحويل الميزات المستمرة إلى خرج فئات، مما يُسهل عليهما المعالجة والتحليل الإحصائي، ويُمكّن النماذج من التعامل مع البيانات بشكل أكثر فاعلية.\n"
      ],
      "metadata": {
        "id": "eo56vDT_pBRW"
      },
      "execution_count": null,
      "outputs": []
    },
    {
      "cell_type": "code",
      "execution_count": null,
      "metadata": {
        "colab": {
          "base_uri": "https://localhost:8080/"
        },
        "id": "rFr_oQ2haoUN",
        "outputId": "f5448306-13aa-46e8-d14e-d6409136bd62"
      },
      "outputs": [
        {
          "output_type": "stream",
          "name": "stdout",
          "text": [
            "Chi-Square test for 'Class' vs 'key_binned':\n",
            "Chi2 value: 405.43905596156355, p-value: 2.1532197764131833e-38\n",
            "--------------------------------------------------\n",
            "Chi-Square test for 'Class' vs 'popularity_binned':\n",
            "Chi2 value: 3557.373721320022, p-value: 5.056666765723977e-291\n",
            "--------------------------------------------------\n",
            "Chi-Square test for 'Class' vs 'instrumentalness_binned':\n",
            "Chi2 value: 3920.1170942282315, p-value: 0.0\n",
            "--------------------------------------------------\n"
          ]
        }
      ],
      "source": [
        "import pandas as pd\n",
        "import numpy as np\n",
        "from scipy.stats import chi2_contingency\n",
        "\n",
        "# Assuming your data is in a DataFrame named `df`\n",
        "\n",
        "# Binning 'Popularity' into 99 distinct values (already categorized, but we will confirm)\n",
        "X_train['popularity_binned'] = pd.cut(X_train['Popularity'], bins=99, labels=np.arange(99))\n",
        "\n",
        "# Binning 'instrumentalness' into 10 bins for simplicity\n",
        "X_train['instrumentalness_binned'] = pd.qcut(X_train['instrumentalness'], q=10, duplicates='drop')\n",
        "\n",
        "# Binning 'key' into its distinct values (already categorized, but we will confirm)\n",
        "X_train['key_binned'] = pd.cut(X_train['key'], bins=np.arange(0, 12, 1), labels=np.arange(11))\n",
        "\n",
        "### **2. Perform Chi-Square Test:**\n",
        "\n",
        "# Function to perform and print Chi-Square test results\n",
        "def chi_square_test(feature, target='Class'):\n",
        "    contingency_table = pd.crosstab(X_train[feature], y_train)\n",
        "    chi2, p, _, _ = chi2_contingency(contingency_table)\n",
        "    print(f\"Chi-Square test for '{target}' vs '{feature}':\")\n",
        "    print(f\"Chi2 value: {chi2}, p-value: {p}\")\n",
        "    print(\"-\" * 50)\n",
        "\n",
        "# Testing 'Class' vs 'key_binned'\n",
        "chi_square_test('key_binned')\n",
        "\n",
        "# Testing 'Class' vs 'popularity_binned'\n",
        "chi_square_test('popularity_binned')\n",
        "\n",
        "# Testing 'Class' vs 'instrumentalness_binned'\n",
        "chi_square_test('instrumentalness_binned')\n",
        "\n",
        "#فهم العلاقة بين الكلاس والاعمدة المكتوبة"
      ]
    },
    {
      "cell_type": "code",
      "source": [
        "# Now drop the original continuous columns if you only need the binned versions\n",
        "X_train.drop(['Popularity', 'instrumentalness', 'key'], axis=1, inplace=True)\n",
        "X_test.drop(['Popularity', 'instrumentalness', 'key'], axis=1, inplace=True)\n"
      ],
      "metadata": {
        "id": "kqAGlhM6rVuk"
      },
      "execution_count": null,
      "outputs": []
    },
    {
      "cell_type": "markdown",
      "metadata": {
        "id": "BXXA5NHuaoUO"
      },
      "source": [
        "### Interpretation of Chi-Square Test Results:\n",
        "\n",
        "#### **1. `Class` vs `key_binned`:**\n",
        "\n",
        "- **Chi-Square value:** 538.15\n",
        "- **p-value:** 3.23e-61\n",
        "\n",
        "**Interpretation:**\n",
        "\n",
        "- The Chi-Square value of 538.15 indicates a significant difference between the observed and expected frequencies in the contingency table for `Class` and `key_binned`.\n",
        "- The p-value is extremely small (3.23e-61), which is much less than the common significance level (e.g., 0.05). This strongly suggests that there is a statistically significant association between the `Class` and `key_binned` variables.\n",
        "- In other words, the distribution of the music genres (`Class`) is not independent of the `key` values. This could imply that certain musical keys are more associated with specific genres.\n",
        "\n",
        "#### **2. `Class` vs `popularity_binned`:**\n",
        "\n",
        "- **Chi-Square value:** 4193.65\n",
        "- **p-value:** 0.0\n",
        "\n",
        "**Interpretation:**\n",
        "\n",
        "- The extremely high Chi-Square value of 4193.65 indicates a substantial difference between the observed and expected frequencies for `Class` and `popularity_binned`.\n",
        "- The p-value is effectively 0, indicating an exceptionally strong statistical significance.\n",
        "- This means there is a very strong association between `Class` and `popularity_binned`. The genre of music (`Class`) is not independent of its popularity. Some genres may be more popular than others, leading to this significant association.\n",
        "\n",
        "#### **3. `Class` vs `instrumentalness_binned`:**\n",
        "\n",
        "- **Chi-Square value:** 3147.75\n",
        "- **p-value:** 0.0\n",
        "\n",
        "**Interpretation:**\n",
        "\n",
        "- The Chi-Square value of 3147.75 shows a significant difference between the observed and expected frequencies for `Class` and `instrumentalness_binned`.\n",
        "- The p-value is also effectively 0, showing a very strong statistical significance.\n",
        "- This suggests a strong association between `Class` and `instrumentalness_binned`. The likelihood that a song is instrumental (or has less vocal content) is significantly related to its genre. Some genres are more likely to be instrumental than others.\n",
        "\n",
        "### **Overall Conclusion:**\n",
        "\n",
        "All three Chi-Square tests suggest that there are statistically significant associations between the music genre (`Class`) and the features `key`, `popularity`, and `instrumentalness`. This implies that these features are not independent of the genre and likely play a role in the classification of the music genre.\n"
      ]
    },
    {
      "cell_type": "code",
      "execution_count": null,
      "metadata": {
        "id": "HsZHAKAOaoUP"
      },
      "outputs": [],
      "source": []
    },
    {
      "cell_type": "code",
      "execution_count": null,
      "metadata": {
        "colab": {
          "base_uri": "https://localhost:8080/",
          "height": 617
        },
        "id": "MI7WrftmaoUQ",
        "outputId": "07165fc9-030d-49a9-d29e-078d10c387cc"
      },
      "outputs": [
        {
          "output_type": "execute_result",
          "data": {
            "text/plain": [
              "Id                         0\n",
              "Artist Name                0\n",
              "Track Name                 0\n",
              "danceability               0\n",
              "energy                     0\n",
              "loudness                   0\n",
              "mode                       0\n",
              "speechiness                0\n",
              "acousticness               0\n",
              "liveness                   0\n",
              "valence                    0\n",
              "tempo                      0\n",
              "duration_in min/ms         0\n",
              "time_signature             0\n",
              "popularity_binned          0\n",
              "instrumentalness_binned    0\n",
              "key_binned                 0\n",
              "dtype: int64"
            ],
            "text/html": [
              "<div>\n",
              "<style scoped>\n",
              "    .dataframe tbody tr th:only-of-type {\n",
              "        vertical-align: middle;\n",
              "    }\n",
              "\n",
              "    .dataframe tbody tr th {\n",
              "        vertical-align: top;\n",
              "    }\n",
              "\n",
              "    .dataframe thead th {\n",
              "        text-align: right;\n",
              "    }\n",
              "</style>\n",
              "<table border=\"1\" class=\"dataframe\">\n",
              "  <thead>\n",
              "    <tr style=\"text-align: right;\">\n",
              "      <th></th>\n",
              "      <th>0</th>\n",
              "    </tr>\n",
              "  </thead>\n",
              "  <tbody>\n",
              "    <tr>\n",
              "      <th>Id</th>\n",
              "      <td>0</td>\n",
              "    </tr>\n",
              "    <tr>\n",
              "      <th>Artist Name</th>\n",
              "      <td>0</td>\n",
              "    </tr>\n",
              "    <tr>\n",
              "      <th>Track Name</th>\n",
              "      <td>0</td>\n",
              "    </tr>\n",
              "    <tr>\n",
              "      <th>danceability</th>\n",
              "      <td>0</td>\n",
              "    </tr>\n",
              "    <tr>\n",
              "      <th>energy</th>\n",
              "      <td>0</td>\n",
              "    </tr>\n",
              "    <tr>\n",
              "      <th>loudness</th>\n",
              "      <td>0</td>\n",
              "    </tr>\n",
              "    <tr>\n",
              "      <th>mode</th>\n",
              "      <td>0</td>\n",
              "    </tr>\n",
              "    <tr>\n",
              "      <th>speechiness</th>\n",
              "      <td>0</td>\n",
              "    </tr>\n",
              "    <tr>\n",
              "      <th>acousticness</th>\n",
              "      <td>0</td>\n",
              "    </tr>\n",
              "    <tr>\n",
              "      <th>liveness</th>\n",
              "      <td>0</td>\n",
              "    </tr>\n",
              "    <tr>\n",
              "      <th>valence</th>\n",
              "      <td>0</td>\n",
              "    </tr>\n",
              "    <tr>\n",
              "      <th>tempo</th>\n",
              "      <td>0</td>\n",
              "    </tr>\n",
              "    <tr>\n",
              "      <th>duration_in min/ms</th>\n",
              "      <td>0</td>\n",
              "    </tr>\n",
              "    <tr>\n",
              "      <th>time_signature</th>\n",
              "      <td>0</td>\n",
              "    </tr>\n",
              "    <tr>\n",
              "      <th>popularity_binned</th>\n",
              "      <td>0</td>\n",
              "    </tr>\n",
              "    <tr>\n",
              "      <th>instrumentalness_binned</th>\n",
              "      <td>0</td>\n",
              "    </tr>\n",
              "    <tr>\n",
              "      <th>key_binned</th>\n",
              "      <td>0</td>\n",
              "    </tr>\n",
              "  </tbody>\n",
              "</table>\n",
              "</div><br><label><b>dtype:</b> int64</label>"
            ]
          },
          "metadata": {},
          "execution_count": 95
        }
      ],
      "source": [
        "X_train.isnull().sum()"
      ]
    },
    {
      "cell_type": "code",
      "execution_count": null,
      "metadata": {
        "colab": {
          "base_uri": "https://localhost:8080/",
          "height": 617
        },
        "id": "I0Dgzgp6aoUS",
        "outputId": "55e99a3b-b26a-41a5-ac42-7f5c0d5d5943"
      },
      "outputs": [
        {
          "output_type": "execute_result",
          "data": {
            "text/plain": [
              "Id                         0\n",
              "Artist Name                0\n",
              "Track Name                 0\n",
              "danceability               0\n",
              "energy                     0\n",
              "loudness                   0\n",
              "mode                       0\n",
              "speechiness                0\n",
              "acousticness               0\n",
              "liveness                   0\n",
              "valence                    0\n",
              "tempo                      0\n",
              "duration_in min/ms         0\n",
              "time_signature             0\n",
              "popularity_binned          0\n",
              "instrumentalness_binned    0\n",
              "key_binned                 0\n",
              "dtype: int64"
            ],
            "text/html": [
              "<div>\n",
              "<style scoped>\n",
              "    .dataframe tbody tr th:only-of-type {\n",
              "        vertical-align: middle;\n",
              "    }\n",
              "\n",
              "    .dataframe tbody tr th {\n",
              "        vertical-align: top;\n",
              "    }\n",
              "\n",
              "    .dataframe thead th {\n",
              "        text-align: right;\n",
              "    }\n",
              "</style>\n",
              "<table border=\"1\" class=\"dataframe\">\n",
              "  <thead>\n",
              "    <tr style=\"text-align: right;\">\n",
              "      <th></th>\n",
              "      <th>0</th>\n",
              "    </tr>\n",
              "  </thead>\n",
              "  <tbody>\n",
              "    <tr>\n",
              "      <th>Id</th>\n",
              "      <td>0</td>\n",
              "    </tr>\n",
              "    <tr>\n",
              "      <th>Artist Name</th>\n",
              "      <td>0</td>\n",
              "    </tr>\n",
              "    <tr>\n",
              "      <th>Track Name</th>\n",
              "      <td>0</td>\n",
              "    </tr>\n",
              "    <tr>\n",
              "      <th>danceability</th>\n",
              "      <td>0</td>\n",
              "    </tr>\n",
              "    <tr>\n",
              "      <th>energy</th>\n",
              "      <td>0</td>\n",
              "    </tr>\n",
              "    <tr>\n",
              "      <th>loudness</th>\n",
              "      <td>0</td>\n",
              "    </tr>\n",
              "    <tr>\n",
              "      <th>mode</th>\n",
              "      <td>0</td>\n",
              "    </tr>\n",
              "    <tr>\n",
              "      <th>speechiness</th>\n",
              "      <td>0</td>\n",
              "    </tr>\n",
              "    <tr>\n",
              "      <th>acousticness</th>\n",
              "      <td>0</td>\n",
              "    </tr>\n",
              "    <tr>\n",
              "      <th>liveness</th>\n",
              "      <td>0</td>\n",
              "    </tr>\n",
              "    <tr>\n",
              "      <th>valence</th>\n",
              "      <td>0</td>\n",
              "    </tr>\n",
              "    <tr>\n",
              "      <th>tempo</th>\n",
              "      <td>0</td>\n",
              "    </tr>\n",
              "    <tr>\n",
              "      <th>duration_in min/ms</th>\n",
              "      <td>0</td>\n",
              "    </tr>\n",
              "    <tr>\n",
              "      <th>time_signature</th>\n",
              "      <td>0</td>\n",
              "    </tr>\n",
              "    <tr>\n",
              "      <th>popularity_binned</th>\n",
              "      <td>0</td>\n",
              "    </tr>\n",
              "    <tr>\n",
              "      <th>instrumentalness_binned</th>\n",
              "      <td>0</td>\n",
              "    </tr>\n",
              "    <tr>\n",
              "      <th>key_binned</th>\n",
              "      <td>0</td>\n",
              "    </tr>\n",
              "  </tbody>\n",
              "</table>\n",
              "</div><br><label><b>dtype:</b> int64</label>"
            ]
          },
          "metadata": {},
          "execution_count": 96
        }
      ],
      "source": [
        "X_test.isnull().sum()"
      ]
    },
    {
      "cell_type": "markdown",
      "metadata": {
        "id": "04uwqgzIaoUV"
      },
      "source": [
        "### 2.3 Feature engineering\n"
      ]
    },
    {
      "cell_type": "markdown",
      "metadata": {
        "id": "bSgJg6g4aoUW"
      },
      "source": [
        "##### We will create a new feature that captures the interaction between the energy and tempo of a track. The intuition behind this is that tracks with high energy and high tempo might have a different musical feel compared to tracks with low energy and low tempo.\n"
      ]
    },
    {
      "cell_type": "code",
      "execution_count": null,
      "metadata": {
        "id": "HeS4zQxsaoUW"
      },
      "outputs": [],
      "source": [
        "# Create the energy-tempo interaction feature\n",
        "X_train['energy_tempo_interaction'] = X_train['energy'] * X_train['tempo']\n",
        "X_test['energy_tempo_interaction'] = X_test['energy'] * X_test['tempo']"
      ]
    },
    {
      "cell_type": "markdown",
      "metadata": {
        "id": "mWTZB_QFaoUW"
      },
      "source": [
        "### 2.4 Encoding categorical variables (Track Name and Artist Name)\n"
      ]
    },
    {
      "cell_type": "code",
      "execution_count": null,
      "metadata": {
        "id": "J9fo37xraoUX"
      },
      "outputs": [],
      "source": [
        "def target_encode(train_series, target, min_samples_leaf=1, smoothing=1, noise_level=0):\n",
        "    temp = pd.concat([train_series, target], axis=1)\n",
        "    averages = temp.groupby(by=train_series.name)[target.name].agg([\"mean\", \"count\"])\n",
        "    smoothing = 1 / (1 + np.exp(-(averages[\"count\"] - min_samples_leaf) / smoothing))\n",
        "    prior = target.mean()\n",
        "    averages['smoothed'] = prior * (1 - smoothing) + averages['mean'] * smoothing\n",
        "    averages.drop([\"mean\", \"count\"], axis=1, inplace=True)\n",
        "    ft_train_series = train_series.map(averages['smoothed']).fillna(prior)\n",
        "    return ft_train_series, averages['smoothed'], prior\n",
        "\n",
        "def apply_target_encoding(test_series, averages, prior):\n",
        "    return test_series.map(averages).fillna(prior)\n",
        "\n",
        "# Perform target encoding on 'Track Name' and 'Artist Name'\n",
        "X_train['track_encoded'], track_averages, track_prior = target_encode(X_train['Track Name'], y_train)\n",
        "X_train['artist_encoded'], artist_averages, artist_prior = target_encode(X_train['Artist Name'], y_train)\n",
        "\n",
        "# Apply the target encoding\n",
        "X_test['track_encoded'] = apply_target_encoding(X_test['Track Name'], track_averages, track_prior)\n",
        "X_test['artist_encoded'] = apply_target_encoding(X_test['Artist Name'], artist_averages, artist_prior)\n",
        "\n",
        "# Drop the original 'Track Name' and 'Artist Name' columns after encoding\n",
        "X_train.drop(['Track Name', 'Artist Name'], axis=1, inplace=True)\n",
        "X_test.drop(['Track Name', 'Artist Name'], axis=1, inplace=True)"
      ]
    },
    {
      "cell_type": "code",
      "source": [
        "print(X_train.dtypes)"
      ],
      "metadata": {
        "colab": {
          "base_uri": "https://localhost:8080/"
        },
        "id": "sk_DQiBysS0d",
        "outputId": "bdc25b71-4a35-4e7f-adaa-d06fc265c896"
      },
      "execution_count": null,
      "outputs": [
        {
          "output_type": "stream",
          "name": "stdout",
          "text": [
            "Id                             int64\n",
            "danceability                 float64\n",
            "energy                       float64\n",
            "loudness                     float64\n",
            "mode                           int64\n",
            "speechiness                  float64\n",
            "acousticness                 float64\n",
            "liveness                     float64\n",
            "valence                      float64\n",
            "tempo                        float64\n",
            "duration_in min/ms           float64\n",
            "time_signature                 int64\n",
            "popularity_binned           category\n",
            "instrumentalness_binned     category\n",
            "key_binned                  category\n",
            "energy_tempo_interaction     float64\n",
            "track_encoded                float64\n",
            "artist_encoded               float64\n",
            "dtype: object\n"
          ]
        }
      ]
    },
    {
      "cell_type": "code",
      "source": [
        "from sklearn.preprocessing import LabelEncoder, StandardScaler\n",
        "label_encoders = {}\n",
        "categorical_columns = ['popularity_binned', 'instrumentalness_binned', 'key_binned']\n",
        "for col in categorical_columns:\n",
        "    le = LabelEncoder()\n",
        "    X_train[col] = le.fit_transform(X_train[col])\n",
        "    label_encoders[col] = le  # حفظ محولات الترميز للاستخدام لاحقًا"
      ],
      "metadata": {
        "id": "AmLZvu8Rs6Pt"
      },
      "execution_count": null,
      "outputs": []
    },
    {
      "cell_type": "markdown",
      "metadata": {
        "id": "2VSTJcNJaoUX"
      },
      "source": [
        "### 2.4 Normalization/Standardization\n"
      ]
    },
    {
      "cell_type": "code",
      "execution_count": null,
      "metadata": {
        "id": "dMK2XDEDaoUY"
      },
      "outputs": [],
      "source": [
        "from sklearn.preprocessing import StandardScaler\n",
        "scaler = StandardScaler()\n",
        "X_train_scaled = pd.DataFrame(scaler.fit_transform(X_train), columns=X_train.columns, index=X_train.index)\n",
        "X_test_scaled = pd.DataFrame(scaler.transform(X_test), columns=X_test.columns, index=X_test.index)"
      ]
    },
    {
      "cell_type": "markdown",
      "metadata": {
        "id": "29ewCuIMaoUZ"
      },
      "source": [
        "### 2.5 Handling outliers\n"
      ]
    },
    {
      "cell_type": "code",
      "execution_count": null,
      "metadata": {
        "colab": {
          "base_uri": "https://localhost:8080/"
        },
        "id": "vjS3CMXwaoUZ",
        "outputId": "c2b203c1-458b-4d9a-b0eb-cef6419ff987"
      },
      "outputs": [
        {
          "output_type": "stream",
          "name": "stdout",
          "text": [
            "Original X_train shape: (11516, 18)\n",
            "Filtered X_train shape: (10527, 18)\n"
          ]
        }
      ],
      "source": [
        "def remove_outliers_zscore(df, threshold=3):\n",
        "    z_scores = np.abs((df - df.mean()) / df.std())\n",
        "    return df[(z_scores < threshold).all(axis=1)]\n",
        "\n",
        "\n",
        "# Remove outliers using Z-score after scaling\n",
        "X_train_filtered = remove_outliers_zscore(X_train_scaled, threshold=3)\n",
        "y_train_filtered = y_train.loc[X_train_filtered.index]  # Align y_train with the filtered X_train\n",
        "\n",
        "# Print the shape of the data before and after filtering\n",
        "print(f\"Original X_train shape: {X_train.shape}\")\n",
        "print(f\"Filtered X_train shape: {X_train_filtered.shape}\")"
      ]
    },
    {
      "cell_type": "markdown",
      "metadata": {
        "id": "v-kknR3AaoUZ"
      },
      "source": [
        "# 3. Model training\n"
      ]
    },
    {
      "cell_type": "markdown",
      "metadata": {
        "id": "rIj1IrJLaoUa"
      },
      "source": [
        "### 3.1 Choosing Baseline models\n"
      ]
    },
    {
      "cell_type": "code",
      "execution_count": null,
      "metadata": {
        "id": "rBamRxenaoUc"
      },
      "outputs": [],
      "source": [
        "from sklearn.linear_model import LogisticRegression\n",
        "from sklearn.neighbors import KNeighborsClassifier\n",
        "from sklearn.tree import DecisionTreeClassifier\n",
        "from sklearn.ensemble import RandomForestClassifier, GradientBoostingClassifier, StackingClassifier\n",
        "from sklearn.naive_bayes import GaussianNB\n",
        "from sklearn.model_selection import cross_val_score\n",
        "\n",
        "# Initialize baseline models (non-ensemble)\n",
        "log_reg = LogisticRegression(class_weight='balanced', random_state=42, max_iter=1000)\n",
        "knn = KNeighborsClassifier(n_neighbors=5)\n",
        "decision_tree = DecisionTreeClassifier(class_weight='balanced', random_state=42)\n",
        "NB_clf = GaussianNB()  # بدون فاصلة هنا\n",
        "rnd_clf = RandomForestClassifier(n_estimators=100, random_state=42)  # بدون فاصلة هنا\n",
        "\n",
        "# Define estimators for stacking\n",
        "estimators = [\n",
        "    ('log_clf', LogisticRegression(class_weight='balanced', random_state=42, max_iter=1000)),\n",
        "    ('knn_clf', KNeighborsClassifier(n_neighbors=4)),\n",
        "    ('DC_clf', DecisionTreeClassifier(class_weight='balanced', random_state=42))\n",
        "]\n",
        "\n",
        "stack_clf = StackingClassifier(estimators=estimators, final_estimator=log_reg)\n",
        "\n",
        "# Initialize the models\n",
        "models = {\n",
        "    'Logistic Regression': log_reg,\n",
        "    'K-Nearest Neighbors': knn,\n",
        "    'Decision Tree Classifier': decision_tree,\n",
        "    'Random Forest Classifier': rnd_clf,\n",
        "    'Gaussian Naive Bayes': NB_clf,\n",
        "    'Stacked Classifier': stack_clf\n",
        "}\n"
      ]
    },
    {
      "cell_type": "code",
      "source": [],
      "metadata": {
        "id": "DgLXzliz0x22"
      },
      "execution_count": null,
      "outputs": []
    },
    {
      "cell_type": "markdown",
      "metadata": {
        "id": "PJg0aaPpaoUd"
      },
      "source": [
        "### 3.2 Training baseline models\n"
      ]
    },
    {
      "cell_type": "code",
      "execution_count": null,
      "metadata": {
        "colab": {
          "base_uri": "https://localhost:8080/"
        },
        "id": "kt26VCmaaoUd",
        "outputId": "805fcbdc-3530-4358-b0be-5c67be5de20f"
      },
      "outputs": [
        {
          "output_type": "stream",
          "name": "stdout",
          "text": [
            "Training and evaluating Logistic Regression...\n",
            "Cross-Validation F1 Score (weighted): 0.7507 ± 0.0126\n",
            "--------------------------------------------------\n",
            "Training and evaluating K-Nearest Neighbors...\n",
            "Cross-Validation F1 Score (weighted): 0.6367 ± 0.0142\n",
            "--------------------------------------------------\n",
            "Training and evaluating Decision Tree Classifier...\n",
            "Cross-Validation F1 Score (weighted): 0.8681 ± 0.0043\n",
            "--------------------------------------------------\n",
            "Training and evaluating Random Forest Classifier...\n",
            "Cross-Validation F1 Score (weighted): 0.8599 ± 0.0095\n",
            "--------------------------------------------------\n",
            "Training and evaluating Gaussian Naive Bayes...\n",
            "Cross-Validation F1 Score (weighted): 0.7313 ± 0.0059\n",
            "--------------------------------------------------\n",
            "Training and evaluating Stacked Classifier...\n",
            "Cross-Validation F1 Score (weighted): 0.8771 ± 0.0019\n",
            "--------------------------------------------------\n"
          ]
        }
      ],
      "source": [
        "for model_name, model in models.items():\n",
        "    print(f\"Training and evaluating {model_name}...\")\n",
        "    cv_scores = cross_val_score(model, X_train_filtered, y_train_filtered, cv=5, scoring='f1_weighted')\n",
        "    print(f\"Cross-Validation F1 Score (weighted): {cv_scores.mean():.4f} ± {cv_scores.std():.4f}\")\n",
        "    print(\"-\" * 50)"
      ]
    },
    {
      "cell_type": "markdown",
      "metadata": {
        "id": "P1H02Hq_aoUe"
      },
      "source": [
        "### 3.3 Testing the best baseline model\n"
      ]
    },
    {
      "cell_type": "code",
      "execution_count": null,
      "metadata": {
        "colab": {
          "base_uri": "https://localhost:8080/"
        },
        "id": "clhkEKkPaoUf",
        "outputId": "b6eaa121-81ad-48a3-b23a-3f2a0d9075d5"
      },
      "outputs": [
        {
          "output_type": "stream",
          "name": "stdout",
          "text": [
            "Precision (weighted): 0.3630\n",
            "Recall (weighted): 0.3361\n",
            "F1 Score (weighted): 0.3205\n",
            "Cross-Validation F1 Score (weighted): 0.4811 ± 0.0172\n"
          ]
        }
      ],
      "source": [
        "from sklearn.metrics import precision_score, recall_score, f1_score\n",
        "import copy\n",
        "\n",
        "best_model = copy.deepcopy(stack_clf)\n",
        "\n",
        "# Train the model on the entire filtered training data\n",
        "best_model.fit(X_train_filtered, y_train_filtered)\n",
        "\n",
        "# Predict on the test set\n",
        "y_test_pred = best_model.predict(X_test_scaled)\n",
        "\n",
        "# Evaluate the model on the test set\n",
        "precision = precision_score(y_test, y_test_pred, average='weighted')\n",
        "recall = recall_score(y_test, y_test_pred, average='weighted')\n",
        "f1 = f1_score(y_test, y_test_pred, average='weighted')\n",
        "\n",
        "print(f\"Precision (weighted): {precision:.4f}\")\n",
        "print(f\"Recall (weighted): {recall:.4f}\")\n",
        "print(f\"F1 Score (weighted): {f1:.4f}\")\n",
        "cv_scores = cross_val_score(best_model, X_test_scaled, y_test, cv=5, scoring='f1_weighted')\n",
        "print(f\"Cross-Validation F1 Score (weighted): {cv_scores.mean():.4f} ± {cv_scores.std():.4f}\")"
      ]
    },
    {
      "cell_type": "markdown",
      "metadata": {
        "id": "uQ58icBfaoUf"
      },
      "source": [
        "### 3.4 Experimenting with Ensemble learning models\n"
      ]
    },
    {
      "cell_type": "code",
      "execution_count": null,
      "metadata": {
        "id": "3AvH2V6saoUg"
      },
      "outputs": [],
      "source": [
        "from sklearn.ensemble import VotingClassifier, RandomForestClassifier, GradientBoostingClassifier, HistGradientBoostingClassifier\n",
        "from xgboost import XGBClassifier\n",
        "from sklearn.ensemble import BaggingClassifier\n",
        "from sklearn.ensemble import AdaBoostClassifier\n",
        "\n",
        "rf = RandomForestClassifier(class_weight = 'balanced', n_estimators=1000, random_state=42)\n",
        "xgb = XGBClassifier(eval_metric='mlogloss', random_state=42)\n",
        "gb = GradientBoostingClassifier()\n",
        "hgb = HistGradientBoostingClassifier(class_weight = 'balanced')\n",
        "\n",
        "# Combine models in an ensemble (Voting Classifier with soft voting)\n",
        "soft_voter = VotingClassifier(estimators=[\n",
        "    ('Logistic Regression', log_reg),\n",
        "    ('K-Nearest Neighbors', knn),\n",
        "    ('Decision Tree Classifier', decision_tree)\n",
        "], voting='soft')\n",
        "\n",
        "bag_clf = BaggingClassifier(\n",
        "    DecisionTreeClassifier(), n_estimators=500,\n",
        "    max_samples=100, bootstrap=True, random_state=42)\n",
        "\n",
        "\n",
        "ada_clf = AdaBoostClassifier(\n",
        "    DecisionTreeClassifier(max_depth=1), n_estimators=200,\n",
        "    algorithm=\"SAMME.R\", learning_rate=0.5, random_state=42)\n",
        "\n",
        "\n",
        "\n",
        "hard_voter = VotingClassifier(estimators=[\n",
        "    ('Logistic Regression', log_reg),\n",
        "    ('K-Nearest Neighbors', knn),\n",
        "    ('Decision Tree Classifier', decision_tree)\n",
        "], voting='hard')\n",
        "\n",
        "ensemble_models = {\n",
        "    'Soft Voting Classifier': soft_voter,\n",
        "    'Hard Voting Classifier': hard_voter,\n",
        "    'Random Forest Classifier': rf,\n",
        "    'XGboost Classifier': xgb,\n",
        "    'GradientBoostingClassifier' : gb,\n",
        "    'HistGradientBoostingClassifier': hgb,\n",
        "    'Bagging':bag_clf,\n",
        "    'AddBoost':ada_clf\n",
        "\n",
        "}"
      ]
    },
    {
      "cell_type": "markdown",
      "metadata": {
        "id": "YDFpesRaaoUg"
      },
      "source": [
        "### 3.5 Training ensemble models\n"
      ]
    },
    {
      "cell_type": "code",
      "execution_count": null,
      "metadata": {
        "colab": {
          "base_uri": "https://localhost:8080/"
        },
        "id": "etajE69saoUh",
        "outputId": "848eb05b-81c8-4e68-ba73-ab8dd1d8aabb"
      },
      "outputs": [
        {
          "output_type": "stream",
          "name": "stdout",
          "text": [
            "Training and evaluating Soft Voting Classifier...\n",
            "Cross-Validation F1 Score (weighted): 0.8537 ± 0.0058\n",
            "--------------------------------------------------\n",
            "Training and evaluating Hard Voting Classifier...\n",
            "Cross-Validation F1 Score (weighted): 0.7961 ± 0.0069\n",
            "--------------------------------------------------\n",
            "Training and evaluating Random Forest Classifier...\n",
            "Cross-Validation F1 Score (weighted): 0.8614 ± 0.0093\n",
            "--------------------------------------------------\n",
            "Training and evaluating XGboost Classifier...\n",
            "Cross-Validation F1 Score (weighted): 0.8805 ± 0.0081\n",
            "--------------------------------------------------\n",
            "Training and evaluating GradientBoostingClassifier...\n",
            "Cross-Validation F1 Score (weighted): 0.8884 ± 0.0066\n",
            "--------------------------------------------------\n",
            "Training and evaluating HistGradientBoostingClassifier...\n",
            "Cross-Validation F1 Score (weighted): 0.8797 ± 0.0061\n",
            "--------------------------------------------------\n",
            "Training and evaluating Badding...\n",
            "Cross-Validation F1 Score (weighted): 0.8766 ± 0.0029\n",
            "--------------------------------------------------\n",
            "Training and evaluating AddBoost...\n",
            "Cross-Validation F1 Score (weighted): 0.2945 ± 0.0429\n",
            "--------------------------------------------------\n"
          ]
        }
      ],
      "source": [
        "# Loop through each model and perform cross-validation\n",
        "for model_name, model in ensemble_models.items():\n",
        "    print(f\"Training and evaluating {model_name}...\")\n",
        "    cv_scores = cross_val_score(model, X_train_filtered, y_train_filtered, cv=5, scoring='f1_weighted')\n",
        "    print(f\"Cross-Validation F1 Score (weighted): {cv_scores.mean():.4f} ± {cv_scores.std():.4f}\")\n",
        "    print(\"-\" * 50)\n"
      ]
    },
    {
      "cell_type": "markdown",
      "metadata": {
        "id": "mUXtbfigaoUh"
      },
      "source": [
        "### 3.3 Testing the best ensemble model\n"
      ]
    },
    {
      "cell_type": "code",
      "execution_count": null,
      "metadata": {
        "colab": {
          "base_uri": "https://localhost:8080/"
        },
        "id": "k01lFlRCaoUi",
        "outputId": "c05df7c2-9fe8-47d7-b5a5-3c2beaf51fe1"
      },
      "outputs": [
        {
          "output_type": "stream",
          "name": "stdout",
          "text": [
            "Precision (weighted): 0.4997\n",
            "Recall (weighted): 0.4010\n",
            "F1 Score (weighted): 0.4016\n",
            "Cross-Validation F1 Score (weighted): 0.5814 ± 0.0088\n"
          ]
        }
      ],
      "source": [
        "best_model = copy.deepcopy(hgb)\n",
        "\n",
        "# Train the model on the entire filtered training data\n",
        "best_model.fit(X_train_filtered, y_train_filtered)\n",
        "\n",
        "# Predict on the test set\n",
        "y_test_pred = best_model.predict(X_test_scaled)\n",
        "\n",
        "# Evaluate the model on the test set\n",
        "precision = precision_score(y_test, y_test_pred, average='weighted')\n",
        "recall = recall_score(y_test, y_test_pred, average='weighted')\n",
        "f1 = f1_score(y_test, y_test_pred, average='weighted')\n",
        "\n",
        "print(f\"Precision (weighted): {precision:.4f}\")\n",
        "print(f\"Recall (weighted): {recall:.4f}\")\n",
        "print(f\"F1 Score (weighted): {f1:.4f}\")\n",
        "cv_scores = cross_val_score(best_model, X_test_scaled, y_test, cv=5, scoring='f1_weighted')\n",
        "print(f\"Cross-Validation F1 Score (weighted): {cv_scores.mean():.4f} ± {cv_scores.std():.4f}\")"
      ]
    },
    {
      "cell_type": "markdown",
      "metadata": {
        "id": "T3x5wqdCaoUj"
      },
      "source": [
        "# 4. Features selection\n"
      ]
    },
    {
      "cell_type": "markdown",
      "metadata": {
        "id": "9KsSZg6-aoUj"
      },
      "source": [
        "### 4.1 Detecting the 10 most important features\n"
      ]
    },
    {
      "cell_type": "code",
      "execution_count": null,
      "metadata": {
        "colab": {
          "base_uri": "https://localhost:8080/"
        },
        "id": "WW_Ct_ZSaoUk",
        "outputId": "3b7ba048-7a7b-4f7f-b94f-d8af85831de6"
      },
      "outputs": [
        {
          "output_type": "stream",
          "name": "stdout",
          "text": [
            "Selected features along with their indices and importance values:\n",
            "Index: 0, Feature: Id, Importance: 0.0056\n",
            "Index: 1, Feature: danceability, Importance: 0.0026\n",
            "Index: 2, Feature: energy, Importance: 0.0031\n",
            "Index: 3, Feature: loudness, Importance: 0.0029\n",
            "Index: 5, Feature: speechiness, Importance: 0.0210\n",
            "Index: 6, Feature: acousticness, Importance: 0.0306\n",
            "Index: 10, Feature: duration_in min/ms, Importance: 0.0193\n",
            "Index: 12, Feature: popularity_binned, Importance: 0.0035\n",
            "Index: 16, Feature: track_encoded, Importance: 0.8719\n",
            "Index: 17, Feature: artist_encoded, Importance: 0.0396\n"
          ]
        }
      ],
      "source": [
        "from sklearn.feature_selection import RFE\n",
        "\n",
        "feature_names = X_train_filtered.columns.tolist()\n",
        "\n",
        "# Initialize the base model for RFE\n",
        "base_model =  copy.deepcopy(gb)\n",
        "\n",
        "# Initialize RFE with the base model and specify the number of features to select\n",
        "rfe = RFE(estimator=base_model, n_features_to_select=10)\n",
        "\n",
        "# Fit RFE on the training data\n",
        "rfe.fit(X_train_filtered, y_train_filtered)\n",
        "\n",
        "# Get the selected features' indices and names\n",
        "selected_indices = np.where(rfe.support_)[0]\n",
        "selected_features = [feature_names[i] for i in selected_indices]\n",
        "\n",
        "# The importance values correspond directly to the selected features\n",
        "feature_importances = rfe.estimator_.feature_importances_\n",
        "\n",
        "# Print the selected features along with their indices and importance values\n",
        "print(\"Selected features along with their indices and importance values:\")\n",
        "for idx, feature, importance in zip(selected_indices, selected_features, feature_importances):\n",
        "    print(f\"Index: {idx}, Feature: {feature}, Importance: {importance:.4f}\")"
      ]
    },
    {
      "cell_type": "markdown",
      "metadata": {
        "id": "Dytsj-tHaoUl"
      },
      "source": [
        "##### It seems that the track_encoded feature has a major importance which means it might be causing overfitting the data, so we will get rid of it\n"
      ]
    },
    {
      "cell_type": "markdown",
      "metadata": {
        "id": "qpifBfU8aoUl"
      },
      "source": [
        "### 4.2 Training the base line models after RFE\n"
      ]
    },
    {
      "cell_type": "code",
      "execution_count": null,
      "metadata": {
        "colab": {
          "base_uri": "https://localhost:8080/"
        },
        "id": "pLz7n7NkaoUl",
        "outputId": "596d39bd-c897-479e-d5e1-c4e323cf85d8"
      },
      "outputs": [
        {
          "output_type": "execute_result",
          "data": {
            "text/plain": [
              "Index(['Id', 'danceability', 'energy', 'loudness', 'mode', 'speechiness',\n",
              "       'acousticness', 'liveness', 'valence', 'tempo', 'duration_in min/ms',\n",
              "       'time_signature', 'popularity_binned', 'instrumentalness_binned',\n",
              "       'key_binned', 'energy_tempo_interaction', 'track_encoded',\n",
              "       'artist_encoded'],\n",
              "      dtype='object')"
            ]
          },
          "metadata": {},
          "execution_count": 135
        }
      ],
      "source": [
        "X_train_filtered.columns"
      ]
    },
    {
      "cell_type": "code",
      "execution_count": null,
      "metadata": {
        "colab": {
          "base_uri": "https://localhost:8080/"
        },
        "id": "r6rSndPdaoUm",
        "outputId": "724f66f6-3de4-4ce1-dcdf-40d8039a1b7a"
      },
      "outputs": [
        {
          "output_type": "stream",
          "name": "stderr",
          "text": [
            "<ipython-input-136-899f684d2fdf>:1: SettingWithCopyWarning: \n",
            "A value is trying to be set on a copy of a slice from a DataFrame\n",
            "\n",
            "See the caveats in the documentation: https://pandas.pydata.org/pandas-docs/stable/user_guide/indexing.html#returning-a-view-versus-a-copy\n",
            "  X_train_filtered.drop(['track_encoded'], axis=1, inplace=True)\n"
          ]
        },
        {
          "output_type": "stream",
          "name": "stdout",
          "text": [
            "Training and evaluating Soft Voting Classifier...\n",
            "Cross-Validation F1 Score (weighted): 0.7377 ± 0.0053\n",
            "--------------------------------------------------\n",
            "Training and evaluating Hard Voting Classifier...\n",
            "Cross-Validation F1 Score (weighted): 0.6797 ± 0.0086\n",
            "--------------------------------------------------\n",
            "Training and evaluating Random Forest Classifier...\n",
            "Cross-Validation F1 Score (weighted): 0.7529 ± 0.0049\n",
            "--------------------------------------------------\n",
            "Training and evaluating XGboost Classifier...\n",
            "Cross-Validation F1 Score (weighted): 0.7883 ± 0.0055\n",
            "--------------------------------------------------\n",
            "Training and evaluating GradientBoostingClassifier...\n",
            "Cross-Validation F1 Score (weighted): 0.8053 ± 0.0043\n",
            "--------------------------------------------------\n",
            "Training and evaluating HistGradientBoostingClassifier...\n",
            "Cross-Validation F1 Score (weighted): 0.7904 ± 0.0053\n",
            "--------------------------------------------------\n",
            "Training and evaluating Badding...\n",
            "Cross-Validation F1 Score (weighted): 0.7131 ± 0.0093\n",
            "--------------------------------------------------\n",
            "Training and evaluating AddBoost...\n",
            "Cross-Validation F1 Score (weighted): 0.4549 ± 0.0333\n",
            "--------------------------------------------------\n"
          ]
        }
      ],
      "source": [
        "X_train_filtered.drop(['track_encoded'], axis=1, inplace=True)\n",
        "X_test_scaled.drop(['track_encoded'], axis=1, inplace=True)\n",
        "\n",
        "# Loop through each model and perform cross-validation\n",
        "for model_name, model in ensemble_models.items():\n",
        "    print(f\"Training and evaluating {model_name}...\")\n",
        "    cv_scores = cross_val_score(model, X_train_filtered, y_train_filtered, cv=5, scoring='f1_weighted')\n",
        "    print(f\"Cross-Validation F1 Score (weighted): {cv_scores.mean():.4f} ± {cv_scores.std():.4f}\")\n",
        "    print(\"-\" * 50)\n"
      ]
    },
    {
      "cell_type": "code",
      "execution_count": null,
      "metadata": {
        "colab": {
          "base_uri": "https://localhost:8080/"
        },
        "id": "fO1g1GI4aoUn",
        "outputId": "32d4136c-cd3e-40f6-df26-2d73751d35f0"
      },
      "outputs": [
        {
          "output_type": "stream",
          "name": "stdout",
          "text": [
            "Precision (weighted): 0.5704\n",
            "Recall (weighted): 0.5118\n",
            "F1 Score (weighted): 0.5177\n",
            "Cross-Validation F1 Score (weighted): 0.5444 ± 0.0164\n"
          ]
        }
      ],
      "source": [
        "best_model = copy.deepcopy(gb)\n",
        "\n",
        "# Train the model on the entire filtered training data\n",
        "best_model.fit(X_train_filtered, y_train_filtered)\n",
        "\n",
        "# Predict on the test set\n",
        "y_test_pred = best_model.predict(X_test_scaled)\n",
        "\n",
        "# Evaluate the model on the test set\n",
        "precision = precision_score(y_test, y_test_pred, average='weighted')\n",
        "recall = recall_score(y_test, y_test_pred, average='weighted')\n",
        "f1 = f1_score(y_test, y_test_pred, average='weighted')\n",
        "\n",
        "print(f\"Precision (weighted): {precision:.4f}\")\n",
        "print(f\"Recall (weighted): {recall:.4f}\")\n",
        "print(f\"F1 Score (weighted): {f1:.4f}\")\n",
        "cv_scores = cross_val_score(best_model, X_test_scaled, y_test, cv=5, scoring='f1_weighted')\n",
        "print(f\"Cross-Validation F1 Score (weighted): {cv_scores.mean():.4f} ± {cv_scores.std():.4f}\")"
      ]
    },
    {
      "cell_type": "markdown",
      "metadata": {
        "id": "rdd8ByaqaoUo"
      },
      "source": [
        "# The best model is:"
      ]
    },
    {
      "cell_type": "code",
      "execution_count": null,
      "metadata": {
        "id": "eIy4fppsaoUo"
      },
      "outputs": [],
      "source": [
        "X_extra_test = pd.read_csv(\"/content/drive/MyDrive/music-genre-classification-2024/music test.csv\")"
      ]
    },
    {
      "cell_type": "code",
      "execution_count": null,
      "metadata": {
        "colab": {
          "base_uri": "https://localhost:8080/",
          "height": 617
        },
        "id": "1UC5DbQ6aoUp",
        "outputId": "51bdc241-dfb2-4d84-c9ec-9f0842860d77"
      },
      "outputs": [
        {
          "output_type": "execute_result",
          "data": {
            "text/plain": [
              "Id                      0\n",
              "Artist Name             0\n",
              "Track Name              0\n",
              "Popularity             95\n",
              "danceability            0\n",
              "energy                  0\n",
              "key                   405\n",
              "loudness                0\n",
              "mode                    0\n",
              "speechiness             0\n",
              "acousticness            0\n",
              "instrumentalness      836\n",
              "liveness                0\n",
              "valence                 0\n",
              "tempo                   0\n",
              "duration_in min/ms      0\n",
              "time_signature          0\n",
              "dtype: int64"
            ],
            "text/html": [
              "<div>\n",
              "<style scoped>\n",
              "    .dataframe tbody tr th:only-of-type {\n",
              "        vertical-align: middle;\n",
              "    }\n",
              "\n",
              "    .dataframe tbody tr th {\n",
              "        vertical-align: top;\n",
              "    }\n",
              "\n",
              "    .dataframe thead th {\n",
              "        text-align: right;\n",
              "    }\n",
              "</style>\n",
              "<table border=\"1\" class=\"dataframe\">\n",
              "  <thead>\n",
              "    <tr style=\"text-align: right;\">\n",
              "      <th></th>\n",
              "      <th>0</th>\n",
              "    </tr>\n",
              "  </thead>\n",
              "  <tbody>\n",
              "    <tr>\n",
              "      <th>Id</th>\n",
              "      <td>0</td>\n",
              "    </tr>\n",
              "    <tr>\n",
              "      <th>Artist Name</th>\n",
              "      <td>0</td>\n",
              "    </tr>\n",
              "    <tr>\n",
              "      <th>Track Name</th>\n",
              "      <td>0</td>\n",
              "    </tr>\n",
              "    <tr>\n",
              "      <th>Popularity</th>\n",
              "      <td>95</td>\n",
              "    </tr>\n",
              "    <tr>\n",
              "      <th>danceability</th>\n",
              "      <td>0</td>\n",
              "    </tr>\n",
              "    <tr>\n",
              "      <th>energy</th>\n",
              "      <td>0</td>\n",
              "    </tr>\n",
              "    <tr>\n",
              "      <th>key</th>\n",
              "      <td>405</td>\n",
              "    </tr>\n",
              "    <tr>\n",
              "      <th>loudness</th>\n",
              "      <td>0</td>\n",
              "    </tr>\n",
              "    <tr>\n",
              "      <th>mode</th>\n",
              "      <td>0</td>\n",
              "    </tr>\n",
              "    <tr>\n",
              "      <th>speechiness</th>\n",
              "      <td>0</td>\n",
              "    </tr>\n",
              "    <tr>\n",
              "      <th>acousticness</th>\n",
              "      <td>0</td>\n",
              "    </tr>\n",
              "    <tr>\n",
              "      <th>instrumentalness</th>\n",
              "      <td>836</td>\n",
              "    </tr>\n",
              "    <tr>\n",
              "      <th>liveness</th>\n",
              "      <td>0</td>\n",
              "    </tr>\n",
              "    <tr>\n",
              "      <th>valence</th>\n",
              "      <td>0</td>\n",
              "    </tr>\n",
              "    <tr>\n",
              "      <th>tempo</th>\n",
              "      <td>0</td>\n",
              "    </tr>\n",
              "    <tr>\n",
              "      <th>duration_in min/ms</th>\n",
              "      <td>0</td>\n",
              "    </tr>\n",
              "    <tr>\n",
              "      <th>time_signature</th>\n",
              "      <td>0</td>\n",
              "    </tr>\n",
              "  </tbody>\n",
              "</table>\n",
              "</div><br><label><b>dtype:</b> int64</label>"
            ]
          },
          "metadata": {},
          "execution_count": 139
        }
      ],
      "source": [
        "X_extra_test.isnull().sum()"
      ]
    },
    {
      "cell_type": "code",
      "execution_count": null,
      "metadata": {
        "id": "wIoewT-0aoUp"
      },
      "outputs": [],
      "source": [
        "X = df.drop('Class', axis=1)\n",
        "y = df['Class']\n",
        "\n",
        "X_train, X_test, y_train, y_test = train_test_split(X, y, test_size=0.2, random_state=42)\n",
        "\n",
        "ids = X_extra_test['Id']\n",
        "\n",
        "# Fill missing values in continuous features with the mean\n",
        "X_extra_test['Popularity'] = X_extra_test['Popularity'].fillna(X_train['Popularity'].mean())\n",
        "\n",
        "X_extra_test['instrumentalness'] = X_extra_test['instrumentalness'].fillna(X_train['instrumentalness'].mean())\n",
        "\n",
        "X_extra_test['key'] = X_extra_test['key'].fillna(X_train['key'].mean())\n",
        "\n",
        "# Apply new binning to convert continuous features into categorical variables\n",
        "\n",
        "# Binning 'popularity'\n",
        "X_extra_test['popularity_binned'] = pd.cut(X_extra_test['Popularity'], bins=99, labels=np.arange(99))\n",
        "\n",
        "# Binning 'instrumentalness'\n",
        "X_extra_test['instrumentalness_binned'] = pd.cut(X_extra_test['instrumentalness'], bins=10, labels=False)\n",
        "\n",
        "# Binning 'key' into 10 bins\n",
        "X_extra_test['key_binned'] = pd.cut(X_extra_test['key'], bins=np.arange(0, 12, 1), labels=np.arange(11))\n",
        "\n",
        "# Now drop the original continuous columns if you only need the binned versions\n",
        "X_extra_test.drop(['Popularity', 'instrumentalness', 'key'], axis=1, inplace=True)\n",
        "\n",
        "# Create the energy-tempo interaction feature\n",
        "X_extra_test['energy_tempo_interaction'] = X_extra_test['energy'] * X_extra_test['tempo']\n",
        "\n",
        "# Perform target encoding on 'Track Name' and 'Artist Name'\n",
        "X_extra_test['track_encoded'] = apply_target_encoding(X_extra_test['Track Name'], track_averages, track_prior)\n",
        "X_extra_test['artist_encoded'] = apply_target_encoding(X_extra_test['Artist Name'], artist_averages, artist_prior)\n",
        "\n",
        "# Drop the original 'Track Name' and 'Artist Name' columns after encoding\n",
        "X_extra_test.drop(['Track Name', 'Artist Name'], axis=1, inplace=True)\n",
        "\n",
        "# scale\n",
        "X_extra_test_scaled = pd.DataFrame(scaler.transform(X_extra_test), columns=X_extra_test.columns, index=X_extra_test.index)\n",
        "\n",
        "X_extra_test_scaled.drop(['track_encoded'], axis=1, inplace=True)"
      ]
    },
    {
      "cell_type": "code",
      "execution_count": null,
      "metadata": {
        "colab": {
          "base_uri": "https://localhost:8080/"
        },
        "id": "MCBstf_PaoUq",
        "outputId": "c57a34e2-506e-4889-bd46-3cd7c44a8d61"
      },
      "outputs": [
        {
          "output_type": "stream",
          "name": "stderr",
          "text": [
            "/usr/local/lib/python3.10/dist-packages/sklearn/base.py:458: UserWarning: X has feature names, but HistGradientBoostingClassifier was fitted without feature names\n",
            "  warnings.warn(\n"
          ]
        },
        {
          "output_type": "stream",
          "name": "stdout",
          "text": [
            "      Id  Class\n",
            "0  14397      9\n",
            "1  14398      6\n",
            "2  14399      9\n",
            "3  14400     10\n",
            "4  14401      5\n"
          ]
        }
      ],
      "source": [
        "best_model = copy.deepcopy(hgb)\n",
        "\n",
        "X_combined = np.concatenate((X_train_filtered, X_test_scaled), axis=0)\n",
        "y_combined = np.concatenate((y_train_filtered, y_test), axis=0)\n",
        "\n",
        "best_model.fit(X_combined, y_combined)\n",
        "\n",
        "y_extra_test_pred = best_model.predict(X_extra_test_scaled)\n",
        "\n",
        "# Create a DataFrame with the Id and predicted Class\n",
        "submission = pd.DataFrame({\n",
        "    'Id': ids,        # Id column from the original test data\n",
        "    'Class': y_extra_test_pred  # Predicted classes\n",
        "})\n",
        "\n",
        "# Display the resulting DataFrame\n",
        "print(submission.head())\n",
        "\n",
        "submission.to_csv('sub_b.csv', index = False)"
      ]
    }
  ],
  "metadata": {
    "kernelspec": {
      "display_name": "Python 3",
      "language": "python",
      "name": "python3"
    },
    "language_info": {
      "codemirror_mode": {
        "name": "ipython",
        "version": 3
      },
      "file_extension": ".py",
      "mimetype": "text/x-python",
      "name": "python",
      "nbconvert_exporter": "python",
      "pygments_lexer": "ipython3",
      "version": "3.10.8"
    },
    "colab": {
      "provenance": []
    }
  },
  "nbformat": 4,
  "nbformat_minor": 0
}